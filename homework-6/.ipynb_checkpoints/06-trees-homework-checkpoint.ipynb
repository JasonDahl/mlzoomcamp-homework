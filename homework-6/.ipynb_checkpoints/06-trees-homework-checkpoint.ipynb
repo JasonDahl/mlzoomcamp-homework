{
 "cells": [
  {
   "cell_type": "markdown",
   "id": "0ebb1f25",
   "metadata": {},
   "source": [
    "# Homework 6: Decision Trees and Ensemble Learning\n",
    "\n",
    "> Note: sometimes your answer doesn't match one of \n",
    "> the options exactly. That's fine. \n",
    "> Select the option that's closest to your solution.\n",
    "\n",
    "\n",
    "\n",
    "### Dataset\n",
    "\n",
    "In this homework, we will use the California Housing Prices from [Kaggle](https://www.kaggle.com/datasets/camnugent/california-housing-prices).\n",
    "\n",
    "Here's a wget-able [link](https://raw.githubusercontent.com/alexeygrigorev/datasets/master/housing.csv):\n",
    "\n",
    "```bash\n",
    "wget https://raw.githubusercontent.com/alexeygrigorev/datasets/master/housing.csv\n",
    "```"
   ]
  },
  {
   "cell_type": "code",
   "execution_count": 1,
   "id": "a061c13b",
   "metadata": {},
   "outputs": [],
   "source": [
    "#!wget https://raw.githubusercontent.com/alexeygrigorev/datasets/master/housing.csv"
   ]
  },
  {
   "cell_type": "markdown",
   "id": "61b3b5ba",
   "metadata": {},
   "source": [
    "The goal of this homework is to create a regression model for predicting housing prices (column `'median_house_value'`).\n",
    "\n",
    "\n",
    "### Preparing the dataset \n",
    "\n",
    "For this homework, we only want to use a subset of data. This is the same subset we used in homework #2.\n",
    "But in contrast to homework #2 we are going to use all columns of the dataset.\n",
    "\n",
    "First, keep only the records where `ocean_proximity` is either `'<1H OCEAN'` or `'INLAND'`\n",
    "\n",
    "Preparation:\n",
    "\n",
    "* Fill missing values with zeros.\n",
    "* Apply the log tranform to `median_house_value`.\n",
    "* Do train/validation/test split with 60%/20%/20% distribution. \n",
    "* Use the `train_test_split` function and set the `random_state` parameter to 1.\n",
    "* Use `DictVectorizer(sparse=True)` to turn the dataframes into matrices.\n"
   ]
  },
  {
   "cell_type": "code",
   "execution_count": 2,
   "id": "59a3b744",
   "metadata": {},
   "outputs": [],
   "source": [
    "import numpy as np\n",
    "import pandas as pd\n",
    "import matplotlib.pyplot as plt\n",
    "import seaborn as sns\n",
    "\n",
    "from sklearn.model_selection import train_test_split\n",
    "from sklearn.feature_extraction import DictVectorizer\n",
    "from sklearn.tree import DecisionTreeRegressor, export_text\n",
    "from sklearn.ensemble import RandomForestRegressor\n",
    "from sklearn.metrics import mean_squared_error\n",
    "\n",
    "%matplotlib inline"
   ]
  },
  {
   "cell_type": "code",
   "execution_count": 3,
   "id": "7fecc271",
   "metadata": {},
   "outputs": [],
   "source": [
    "def prep_data(df, columns, labels):\n",
    "    df_filt = df.loc[(df['ocean_proximity'] == '<1H OCEAN') | (df['ocean_proximity'] == 'INLAND')]\n",
    "    df_clean = df_filt[columns].fillna(0)\n",
    "    df_clean = df_clean.join(np.log1p(df[labels]))\n",
    "    df_clean.columns = df_clean.columns.str.replace(' ', '_').str.lower()\n",
    "    \n",
    "    return df_clean"
   ]
  },
  {
   "cell_type": "code",
   "execution_count": 4,
   "id": "8dc4c740",
   "metadata": {},
   "outputs": [],
   "source": [
    "def split_data(df):\n",
    "    df_full_train, df_test = train_test_split(df, test_size=0.2, random_state=1)\n",
    "    df_train, df_val = train_test_split(df_full_train, test_size=0.25, random_state=1)\n",
    "    df_train = df_train.reset_index(drop=True)\n",
    "    df_val = df_val.reset_index(drop=True)\n",
    "    df_test = df_test.reset_index(drop=True)\n",
    "    return df_train, df_val, df_test"
   ]
  },
  {
   "cell_type": "code",
   "execution_count": 5,
   "id": "45e5ad4f",
   "metadata": {},
   "outputs": [],
   "source": [
    "def prepare_data_dict(split_df, labelcol):\n",
    "    y = split_df[labelcol].values\n",
    "    split_df_copy = split_df.copy()\n",
    "    del(split_df_copy[labels])\n",
    "    train_dict = split_df_copy.to_dict(orient='records')\n",
    "    \n",
    "    return train_dict, y"
   ]
  },
  {
   "cell_type": "code",
   "execution_count": 6,
   "id": "9b29d1c3",
   "metadata": {
    "scrolled": false
   },
   "outputs": [
    {
     "name": "stdout",
     "output_type": "stream",
     "text": [
      "<class 'pandas.core.frame.DataFrame'>\n",
      "RangeIndex: 20640 entries, 0 to 20639\n",
      "Data columns (total 10 columns):\n",
      " #   Column              Non-Null Count  Dtype  \n",
      "---  ------              --------------  -----  \n",
      " 0   longitude           20640 non-null  float64\n",
      " 1   latitude            20640 non-null  float64\n",
      " 2   housing_median_age  20640 non-null  float64\n",
      " 3   total_rooms         20640 non-null  float64\n",
      " 4   total_bedrooms      20433 non-null  float64\n",
      " 5   population          20640 non-null  float64\n",
      " 6   households          20640 non-null  float64\n",
      " 7   median_income       20640 non-null  float64\n",
      " 8   median_house_value  20640 non-null  float64\n",
      " 9   ocean_proximity     20640 non-null  object \n",
      "dtypes: float64(9), object(1)\n",
      "memory usage: 1.6+ MB\n"
     ]
    }
   ],
   "source": [
    "df = pd.read_csv('housing.csv')\n",
    "df.info()"
   ]
  },
  {
   "cell_type": "code",
   "execution_count": 7,
   "id": "d2173056",
   "metadata": {},
   "outputs": [
    {
     "data": {
      "text/plain": [
       "Index(['longitude', 'latitude', 'housing_median_age', 'total_rooms',\n",
       "       'total_bedrooms', 'population', 'households', 'median_income',\n",
       "       'median_house_value', 'ocean_proximity'],\n",
       "      dtype='object')"
      ]
     },
     "execution_count": 7,
     "metadata": {},
     "output_type": "execute_result"
    }
   ],
   "source": [
    "df.columns"
   ]
  },
  {
   "cell_type": "code",
   "execution_count": 8,
   "id": "5b74130d",
   "metadata": {
    "scrolled": true
   },
   "outputs": [],
   "source": [
    "numerical = ['longitude', 'latitude', 'housing_median_age', 'total_rooms',\n",
    "             'total_bedrooms', 'population', 'households', 'median_income']\n",
    "categorical = ['ocean_proximity']\n",
    "columns = numerical + categorical\n",
    "labels = 'median_house_value'\n",
    "\n",
    "df_clean=prep_data(df, columns, labels)\n",
    "df_train, df_val, df_test = split_data(df_clean)"
   ]
  },
  {
   "cell_type": "code",
   "execution_count": 9,
   "id": "6415f8c7",
   "metadata": {
    "scrolled": true
   },
   "outputs": [],
   "source": [
    "Xtrain_dict, y_train = prepare_data_dict(df_train, labels)\n",
    "Xval_dict, y_val = prepare_data_dict(df_val, labels)\n",
    "Xtest_dict, y_test = prepare_data_dict(df_test, labels)"
   ]
  },
  {
   "cell_type": "code",
   "execution_count": 10,
   "id": "ba12ea2c",
   "metadata": {},
   "outputs": [],
   "source": [
    "dv = DictVectorizer(sparse=True)\n",
    "\n",
    "X_train = dv.fit_transform(Xtrain_dict)\n",
    "X_val = dv.transform(Xval_dict)\n",
    "X_test = dv.transform(Xtest_dict)"
   ]
  },
  {
   "cell_type": "code",
   "execution_count": 11,
   "id": "068a0bce",
   "metadata": {},
   "outputs": [
    {
     "data": {
      "text/plain": [
       "<9411x10 sparse matrix of type '<class 'numpy.float64'>'\n",
       "\twith 84699 stored elements in Compressed Sparse Row format>"
      ]
     },
     "execution_count": 11,
     "metadata": {},
     "output_type": "execute_result"
    }
   ],
   "source": [
    "X_train"
   ]
  },
  {
   "cell_type": "markdown",
   "id": "14dd8a63",
   "metadata": {},
   "source": [
    "## Question 1\n",
    "\n",
    "Let's train a decision tree regressor to predict the `median_house_value` variable. \n",
    "\n",
    "* Train a model with `max_depth=1`."
   ]
  },
  {
   "cell_type": "code",
   "execution_count": 12,
   "id": "65ebbcc8",
   "metadata": {},
   "outputs": [
    {
     "data": {
      "text/html": [
       "<style>#sk-container-id-1 {color: black;}#sk-container-id-1 pre{padding: 0;}#sk-container-id-1 div.sk-toggleable {background-color: white;}#sk-container-id-1 label.sk-toggleable__label {cursor: pointer;display: block;width: 100%;margin-bottom: 0;padding: 0.3em;box-sizing: border-box;text-align: center;}#sk-container-id-1 label.sk-toggleable__label-arrow:before {content: \"▸\";float: left;margin-right: 0.25em;color: #696969;}#sk-container-id-1 label.sk-toggleable__label-arrow:hover:before {color: black;}#sk-container-id-1 div.sk-estimator:hover label.sk-toggleable__label-arrow:before {color: black;}#sk-container-id-1 div.sk-toggleable__content {max-height: 0;max-width: 0;overflow: hidden;text-align: left;background-color: #f0f8ff;}#sk-container-id-1 div.sk-toggleable__content pre {margin: 0.2em;color: black;border-radius: 0.25em;background-color: #f0f8ff;}#sk-container-id-1 input.sk-toggleable__control:checked~div.sk-toggleable__content {max-height: 200px;max-width: 100%;overflow: auto;}#sk-container-id-1 input.sk-toggleable__control:checked~label.sk-toggleable__label-arrow:before {content: \"▾\";}#sk-container-id-1 div.sk-estimator input.sk-toggleable__control:checked~label.sk-toggleable__label {background-color: #d4ebff;}#sk-container-id-1 div.sk-label input.sk-toggleable__control:checked~label.sk-toggleable__label {background-color: #d4ebff;}#sk-container-id-1 input.sk-hidden--visually {border: 0;clip: rect(1px 1px 1px 1px);clip: rect(1px, 1px, 1px, 1px);height: 1px;margin: -1px;overflow: hidden;padding: 0;position: absolute;width: 1px;}#sk-container-id-1 div.sk-estimator {font-family: monospace;background-color: #f0f8ff;border: 1px dotted black;border-radius: 0.25em;box-sizing: border-box;margin-bottom: 0.5em;}#sk-container-id-1 div.sk-estimator:hover {background-color: #d4ebff;}#sk-container-id-1 div.sk-parallel-item::after {content: \"\";width: 100%;border-bottom: 1px solid gray;flex-grow: 1;}#sk-container-id-1 div.sk-label:hover label.sk-toggleable__label {background-color: #d4ebff;}#sk-container-id-1 div.sk-serial::before {content: \"\";position: absolute;border-left: 1px solid gray;box-sizing: border-box;top: 0;bottom: 0;left: 50%;z-index: 0;}#sk-container-id-1 div.sk-serial {display: flex;flex-direction: column;align-items: center;background-color: white;padding-right: 0.2em;padding-left: 0.2em;position: relative;}#sk-container-id-1 div.sk-item {position: relative;z-index: 1;}#sk-container-id-1 div.sk-parallel {display: flex;align-items: stretch;justify-content: center;background-color: white;position: relative;}#sk-container-id-1 div.sk-item::before, #sk-container-id-1 div.sk-parallel-item::before {content: \"\";position: absolute;border-left: 1px solid gray;box-sizing: border-box;top: 0;bottom: 0;left: 50%;z-index: -1;}#sk-container-id-1 div.sk-parallel-item {display: flex;flex-direction: column;z-index: 1;position: relative;background-color: white;}#sk-container-id-1 div.sk-parallel-item:first-child::after {align-self: flex-end;width: 50%;}#sk-container-id-1 div.sk-parallel-item:last-child::after {align-self: flex-start;width: 50%;}#sk-container-id-1 div.sk-parallel-item:only-child::after {width: 0;}#sk-container-id-1 div.sk-dashed-wrapped {border: 1px dashed gray;margin: 0 0.4em 0.5em 0.4em;box-sizing: border-box;padding-bottom: 0.4em;background-color: white;}#sk-container-id-1 div.sk-label label {font-family: monospace;font-weight: bold;display: inline-block;line-height: 1.2em;}#sk-container-id-1 div.sk-label-container {text-align: center;}#sk-container-id-1 div.sk-container {/* jupyter's `normalize.less` sets `[hidden] { display: none; }` but bootstrap.min.css set `[hidden] { display: none !important; }` so we also need the `!important` here to be able to override the default hidden behavior on the sphinx rendered scikit-learn.org. See: https://github.com/scikit-learn/scikit-learn/issues/21755 */display: inline-block !important;position: relative;}#sk-container-id-1 div.sk-text-repr-fallback {display: none;}</style><div id=\"sk-container-id-1\" class=\"sk-top-container\"><div class=\"sk-text-repr-fallback\"><pre>DecisionTreeRegressor(max_depth=1)</pre><b>In a Jupyter environment, please rerun this cell to show the HTML representation or trust the notebook. <br />On GitHub, the HTML representation is unable to render, please try loading this page with nbviewer.org.</b></div><div class=\"sk-container\" hidden><div class=\"sk-item\"><div class=\"sk-estimator sk-toggleable\"><input class=\"sk-toggleable__control sk-hidden--visually\" id=\"sk-estimator-id-1\" type=\"checkbox\" checked><label for=\"sk-estimator-id-1\" class=\"sk-toggleable__label sk-toggleable__label-arrow\">DecisionTreeRegressor</label><div class=\"sk-toggleable__content\"><pre>DecisionTreeRegressor(max_depth=1)</pre></div></div></div></div></div>"
      ],
      "text/plain": [
       "DecisionTreeRegressor(max_depth=1)"
      ]
     },
     "execution_count": 12,
     "metadata": {},
     "output_type": "execute_result"
    }
   ],
   "source": [
    "dtr = DecisionTreeRegressor(max_depth=1)\n",
    "dtr.fit(X_train, y_train)"
   ]
  },
  {
   "cell_type": "code",
   "execution_count": 13,
   "id": "330d9ebe",
   "metadata": {},
   "outputs": [
    {
     "name": "stdout",
     "output_type": "stream",
     "text": [
      "|--- ocean_proximity=<1H OCEAN <= 0.50\n",
      "|   |--- value: [11.61]\n",
      "|--- ocean_proximity=<1H OCEAN >  0.50\n",
      "|   |--- value: [12.30]\n",
      "\n"
     ]
    }
   ],
   "source": [
    "print(export_text(dtr, feature_names=dv.get_feature_names_out()))"
   ]
  },
  {
   "cell_type": "markdown",
   "id": "3a357c82",
   "metadata": {},
   "source": [
    "Which feature is used for splitting the data?\n",
    "\n",
    "* `ocean_proximity`  <--\n",
    "* `total_rooms`\n",
    "* `latitude`\n",
    "* `population`"
   ]
  },
  {
   "cell_type": "markdown",
   "id": "add97343",
   "metadata": {},
   "source": [
    "## Question 2\n",
    "\n",
    "Train a random forest model with these parameters:\n",
    "\n",
    "* `n_estimators=10`\n",
    "* `random_state=1`\n",
    "* `n_jobs=-1` (optional - to make training faster)"
   ]
  },
  {
   "cell_type": "code",
   "execution_count": 14,
   "id": "bbb1d41b",
   "metadata": {},
   "outputs": [
    {
     "name": "stdout",
     "output_type": "stream",
     "text": [
      "RMSE: 0.245\n"
     ]
    }
   ],
   "source": [
    "rfr = RandomForestRegressor(n_estimators=10, random_state=1, n_jobs=-1)\n",
    "\n",
    "rfr.fit(X_train, y_train)\n",
    "\n",
    "yval_pred = rfr.predict(X_val)\n",
    "RMSE = mean_squared_error(y_val, yval_pred, squared=False)\n",
    "print(f'RMSE: {round(RMSE, 3)}')"
   ]
  },
  {
   "cell_type": "markdown",
   "id": "0c12dc52",
   "metadata": {},
   "source": [
    "What's the RMSE of this model on validation?\n",
    "\n",
    "* 0.045\n",
    "* 0.245 <--\n",
    "* 0.545\n",
    "* 0.845"
   ]
  },
  {
   "cell_type": "markdown",
   "id": "11aaf516",
   "metadata": {},
   "source": [
    "## Question 3\n",
    "\n",
    "Now let's experiment with the `n_estimators` parameter\n",
    "\n",
    "* Try different values of this parameter from 10 to 200 with step 10.\n",
    "* Set `random_state` to `1`.\n",
    "* Evaluate the model on the validation dataset."
   ]
  },
  {
   "cell_type": "code",
   "execution_count": 15,
   "id": "ea875b95",
   "metadata": {},
   "outputs": [
    {
     "name": "stdout",
     "output_type": "stream",
     "text": [
      "Fitting: n_estimators = 10\n",
      "Fitting: n_estimators = 20\n",
      "Fitting: n_estimators = 30\n",
      "Fitting: n_estimators = 40\n",
      "Fitting: n_estimators = 50\n",
      "Fitting: n_estimators = 60\n",
      "Fitting: n_estimators = 70\n",
      "Fitting: n_estimators = 80\n",
      "Fitting: n_estimators = 90\n",
      "Fitting: n_estimators = 100\n",
      "Fitting: n_estimators = 110\n",
      "Fitting: n_estimators = 120\n",
      "Fitting: n_estimators = 130\n",
      "Fitting: n_estimators = 140\n",
      "Fitting: n_estimators = 150\n",
      "Fitting: n_estimators = 160\n",
      "Fitting: n_estimators = 170\n",
      "Fitting: n_estimators = 180\n",
      "Fitting: n_estimators = 190\n",
      "Fitting: n_estimators = 200\n",
      "[0.245, 0.238, 0.237, 0.235, 0.235, 0.235, 0.234, 0.235, 0.234, 0.234, 0.234, 0.234, 0.234, 0.234, 0.234, 0.233, 0.233, 0.234, 0.234, 0.234]\n"
     ]
    }
   ],
   "source": [
    "estimators = np.arange(10,201, 10)\n",
    "rmses = []\n",
    "\n",
    "for n in estimators:\n",
    "    rfr = RandomForestRegressor(n_estimators=n, random_state=1, n_jobs=-1)\n",
    "    \n",
    "    print(f'Fitting: n_estimators = {n}')\n",
    "    rfr.fit(X_train, y_train)\n",
    "\n",
    "    yval_pred = rfr.predict(X_val)\n",
    "    RMSE = mean_squared_error(y_val, yval_pred, squared=False)\n",
    "    rmses.append(round(RMSE, 3))\n",
    "    \n",
    "print(rmses)"
   ]
  },
  {
   "cell_type": "code",
   "execution_count": 16,
   "id": "b02fff99",
   "metadata": {},
   "outputs": [
    {
     "data": {
      "text/plain": [
       "[0.245,\n",
       " 0.238,\n",
       " 0.237,\n",
       " 0.235,\n",
       " 0.235,\n",
       " 0.235,\n",
       " 0.234,\n",
       " 0.235,\n",
       " 0.234,\n",
       " 0.234,\n",
       " 0.234,\n",
       " 0.234,\n",
       " 0.234,\n",
       " 0.234,\n",
       " 0.234,\n",
       " 0.233,\n",
       " 0.233,\n",
       " 0.234,\n",
       " 0.234,\n",
       " 0.234]"
      ]
     },
     "execution_count": 16,
     "metadata": {},
     "output_type": "execute_result"
    }
   ],
   "source": [
    "rmses"
   ]
  },
  {
   "cell_type": "code",
   "execution_count": 17,
   "id": "83b7a043",
   "metadata": {},
   "outputs": [
    {
     "data": {
      "text/plain": [
       "<function matplotlib.pyplot.plot(*args, scalex=True, scaley=True, data=None, **kwargs)>"
      ]
     },
     "execution_count": 17,
     "metadata": {},
     "output_type": "execute_result"
    },
    {
     "data": {
      "image/png": "[encoded data removed]",
      "text/plain": [
       "<Figure size 640x480 with 1 Axes>"
      ]
     },
     "metadata": {},
     "output_type": "display_data"
    }
   ],
   "source": [
    "plt.plot(estimators, rmses, label='RMSE')\n",
    "plt.xlabel('n_estimators')\n",
    "plt.ylabel('RMSE')\n",
    "plt.xlim((0, 200))\n",
    "plt.ylim((0.230, 0.247))\n",
    "plt.plot"
   ]
  },
  {
   "cell_type": "markdown",
   "id": "5823f3a9",
   "metadata": {},
   "source": [
    "After which value of `n_estimators` does RMSE stop improving?\n",
    "Consider 3 decimal places for retrieving the answer.\n",
    "\n",
    "- 10\n",
    "- 25\n",
    "- 50\n",
    "- 160  <--"
   ]
  },
  {
   "cell_type": "markdown",
   "id": "460f8955",
   "metadata": {},
   "source": [
    "## Question 4\n",
    "\n",
    "Let's select the best `max_depth`:\n",
    "\n",
    "* Try different values of `max_depth`: `[10, 15, 20, 25]`\n",
    "* For each of these values,\n",
    "  * try different values of `n_estimators` from 10 till 200 (with step 10)\n",
    "  * calculate the mean RMSE \n",
    "* Fix the random seed: `random_state=1`"
   ]
  },
  {
   "cell_type": "code",
   "execution_count": 48,
   "id": "3d31f35c",
   "metadata": {
    "scrolled": false
   },
   "outputs": [
    {
     "name": "stdout",
     "output_type": "stream",
     "text": [
      "(10, 10, 0.2507)\n",
      "(10, 20, 0.2475)\n",
      "(10, 30, 0.2463)\n",
      "(10, 40, 0.245)\n",
      "(10, 50, 0.2454)\n",
      "(10, 60, 0.2452)\n",
      "(10, 70, 0.2453)\n",
      "(10, 80, 0.2455)\n",
      "(10, 90, 0.2455)\n",
      "(10, 100, 0.2454)\n",
      "(10, 110, 0.2453)\n",
      "(10, 120, 0.2451)\n",
      "(10, 130, 0.2448)\n",
      "(10, 140, 0.2446)\n",
      "(10, 150, 0.2446)\n",
      "(10, 160, 0.2445)\n",
      "(10, 170, 0.2444)\n",
      "(10, 180, 0.2445)\n",
      "(10, 190, 0.2447)\n",
      "(10, 200, 0.2447)\n",
      "(15, 10, 0.2457)\n",
      "(15, 20, 0.2395)\n",
      "(15, 30, 0.2378)\n",
      "(15, 40, 0.2359)\n",
      "(15, 50, 0.2359)\n",
      "(15, 60, 0.2356)\n",
      "(15, 70, 0.2355)\n",
      "(15, 80, 0.2358)\n",
      "(15, 90, 0.2354)\n",
      "(15, 100, 0.2353)\n",
      "(15, 110, 0.2352)\n",
      "(15, 120, 0.2349)\n",
      "(15, 130, 0.2348)\n",
      "(15, 140, 0.2346)\n",
      "(15, 150, 0.2345)\n",
      "(15, 160, 0.2343)\n",
      "(15, 170, 0.2343)\n",
      "(15, 180, 0.2345)\n",
      "(15, 190, 0.2347)\n",
      "(15, 200, 0.2345)\n",
      "(20, 10, 0.2453)\n",
      "(20, 20, 0.239)\n",
      "(20, 30, 0.2371)\n",
      "(20, 40, 0.2355)\n",
      "(20, 50, 0.2351)\n",
      "(20, 60, 0.2348)\n",
      "(20, 70, 0.2347)\n",
      "(20, 80, 0.2349)\n",
      "(20, 90, 0.2348)\n",
      "(20, 100, 0.2346)\n",
      "(20, 110, 0.2344)\n",
      "(20, 120, 0.2342)\n",
      "(20, 130, 0.234)\n",
      "(20, 140, 0.2339)\n",
      "(20, 150, 0.2338)\n",
      "(20, 160, 0.2337)\n",
      "(20, 170, 0.2337)\n",
      "(20, 180, 0.2339)\n",
      "(20, 190, 0.2342)\n",
      "(20, 200, 0.2339)\n",
      "(25, 10, 0.2451)\n",
      "(25, 20, 0.2387)\n",
      "(25, 30, 0.2365)\n",
      "(25, 40, 0.2349)\n",
      "(25, 50, 0.2346)\n",
      "(25, 60, 0.2343)\n",
      "(25, 70, 0.2341)\n",
      "(25, 80, 0.2343)\n",
      "(25, 90, 0.2343)\n",
      "(25, 100, 0.2342)\n",
      "(25, 110, 0.2341)\n",
      "(25, 120, 0.2339)\n",
      "(25, 130, 0.2338)\n",
      "(25, 140, 0.2336)\n",
      "(25, 150, 0.2335)\n",
      "(25, 160, 0.2334)\n",
      "(25, 170, 0.2334)\n",
      "(25, 180, 0.2336)\n",
      "(25, 190, 0.2338)\n",
      "(25, 200, 0.2337)\n"
     ]
    }
   ],
   "source": [
    "estimators = np.arange(10,201, 10)\n",
    "depths = [10, 15, 20, 25]\n",
    "scores=[]\n",
    "\n",
    "for d in depths:\n",
    "    for n in estimators:\n",
    "        rfr = RandomForestRegressor(n_estimators=n, max_depth=d, random_state=1, n_jobs=-1)\n",
    "        rfr.fit(X_train, y_train)\n",
    "\n",
    "        yval_pred = rfr.predict(X_val)\n",
    "        RMSE = mean_squared_error(y_val, yval_pred, squared=False)\n",
    "        \n",
    "        scores.append((d, n, round(RMSE, 4)))\n",
    "        print(scores[-1])"
   ]
  },
  {
   "cell_type": "code",
   "execution_count": 55,
   "id": "85ac371f",
   "metadata": {},
   "outputs": [
    {
     "data": {
      "text/plain": [
       "<Axes: xlabel='None-max_depth', ylabel='n_estimators'>"
      ]
     },
     "execution_count": 55,
     "metadata": {},
     "output_type": "execute_result"
    },
    {
     "data": {
      "image/png": "[encoded data removed]",
      "text/plain": [
       "<Figure size 640x480 with 2 Axes>"
      ]
     },
     "metadata": {},
     "output_type": "display_data"
    }
   ],
   "source": [
    "df_scores = pd.DataFrame(scores, columns=['max_depth', 'n_estimators', 'RMSE'])\n",
    "df_scores_pivot = df_scores.pivot(index='n_estimators', columns=['max_depth'], values=['RMSE'])\n",
    "\n",
    "sns.heatmap(df_scores_pivot, annot=True)"
   ]
  },
  {
   "cell_type": "code",
   "execution_count": 59,
   "id": "83e79b4b",
   "metadata": {},
   "outputs": [
    {
     "name": "stdout",
     "output_type": "stream",
     "text": [
      "max_depth\n",
      "10    0.2454\n",
      "15    0.2359\n",
      "20    0.2353\n",
      "25    0.2349\n",
      "Name: RMSE, dtype: float64\n"
     ]
    }
   ],
   "source": [
    "mean_rmse_by_d = df_scores.groupby('max_depth')['RMSE'].mean().round(4)\n",
    "print(mean_rmse_by_d)"
   ]
  },
  {
   "cell_type": "markdown",
   "id": "405ffa1d",
   "metadata": {},
   "source": [
    "What's the best `max_depth`, using the mean RMSE?\n",
    "\n",
    "* 10\n",
    "* 15\n",
    "* 20\n",
    "* 25  <--"
   ]
  },
  {
   "cell_type": "markdown",
   "id": "8e002915",
   "metadata": {},
   "source": [
    "# Question 5\n",
    "\n",
    "We can extract feature importance information from tree-based models. \n",
    "\n",
    "At each step of the decision tree learning algorithm, it finds the best split. \n",
    "When doing it, we can calculate \"gain\" - the reduction in impurity before and after the split. \n",
    "This gain is quite useful in understanding what are the important features for tree-based models.\n",
    "\n",
    "In Scikit-Learn, tree-based models contain this information in the\n",
    "[`feature_importances_`](https://scikit-learn.org/stable/modules/generated/sklearn.ensemble.RandomForestRegressor.html#sklearn.ensemble.RandomForestRegressor.feature_importances_)\n",
    "field. \n",
    "\n",
    "For this homework question, we'll find the most important feature:\n",
    "\n",
    "* Train the model with these parameters:\n",
    "  * `n_estimators=10`,\n",
    "  * `max_depth=20`,\n",
    "  * `random_state=1`,\n",
    "  * `n_jobs=-1` (optional)\n",
    "* Get the feature importance information from this model\n"
   ]
  },
  {
   "cell_type": "code",
   "execution_count": 70,
   "id": "18808009",
   "metadata": {},
   "outputs": [],
   "source": [
    "rfr = RandomForestRegressor(n_estimators=10, max_depth=20, random_state=1, n_jobs=-1)\n",
    "rfr.fit(X_train, y_train)\n",
    "\n",
    "importances = rfr.feature_importances_"
   ]
  },
  {
   "cell_type": "code",
   "execution_count": 71,
   "id": "0f2608e2",
   "metadata": {},
   "outputs": [],
   "source": [
    "featurenames = dv.get_feature_names_out()"
   ]
  },
  {
   "cell_type": "code",
   "execution_count": 79,
   "id": "319b7945",
   "metadata": {},
   "outputs": [
    {
     "name": "stdout",
     "output_type": "stream",
     "text": [
      "                     feature  importance\n",
      "4              median_income    0.335668\n",
      "5  ocean_proximity=<1H OCEAN    0.292473\n",
      "2                   latitude    0.101891\n",
      "3                  longitude    0.086176\n",
      "6     ocean_proximity=INLAND    0.073806\n",
      "1         housing_median_age    0.030194\n",
      "7                 population    0.026821\n",
      "9                total_rooms    0.021772\n",
      "8             total_bedrooms    0.016245\n",
      "0                 households    0.014953\n"
     ]
    }
   ],
   "source": [
    "feature_df = pd.DataFrame(list(zip(featurenames, importances)), \\\n",
    "                          columns=['feature', 'importance']).sort_values(by=['importance'], ascending=False)\n",
    "print(feature_df)"
   ]
  },
  {
   "cell_type": "markdown",
   "id": "7c68add8",
   "metadata": {},
   "source": [
    "What's the most important feature (among these 4)? \n",
    "\n",
    "* `total_rooms`\n",
    "* `median_income`  <--\n",
    "* `total_bedrooms`\n",
    "* `longitude`\n"
   ]
  },
  {
   "cell_type": "markdown",
   "id": "5dd6b47a",
   "metadata": {},
   "source": [
    "# Question 6\n",
    "\n",
    "Now let's train an XGBoost model! For this question, we'll tune the `eta` parameter:\n",
    "\n",
    "* Install XGBoost\n",
    "* Create DMatrix for train and validation\n",
    "* Create a watchlist\n",
    "* Train a model with these parameters for 100 rounds:\n",
    "\n",
    "```\n",
    "xgb_params = {\n",
    "    'eta': 0.3, \n",
    "    'max_depth': 6,\n",
    "    'min_child_weight': 1,\n",
    "    \n",
    "    'objective': 'reg:squarederror',\n",
    "    'nthread': 8,\n",
    "    \n",
    "    'seed': 1,\n",
    "    'verbosity': 1,\n",
    "}\n",
    "```\n"
   ]
  },
  {
   "cell_type": "code",
   "execution_count": 18,
   "id": "3611c8eb",
   "metadata": {},
   "outputs": [
    {
     "name": "stdout",
     "output_type": "stream",
     "text": [
      "Collecting xgboost\n",
      "  Obtaining dependency information for xgboost from https://files.pythonhosted.org/packages/c1/cf/a662bc8f40588d54663edfe12980946670490bff0b6e793c7896a4fe36df/xgboost-2.0.0-py3-none-manylinux2014_x86_64.whl.metadata\n",
      "  Downloading xgboost-2.0.0-py3-none-manylinux2014_x86_64.whl.metadata (2.0 kB)\n",
      "Requirement already satisfied: numpy in /home/jdiabl0/anaconda3/envs/ml-zoomcamp/lib/python3.11/site-packages (from xgboost) (1.24.3)\n",
      "Requirement already satisfied: scipy in /home/jdiabl0/anaconda3/envs/ml-zoomcamp/lib/python3.11/site-packages (from xgboost) (1.11.1)\n",
      "Downloading xgboost-2.0.0-py3-none-manylinux2014_x86_64.whl (297.1 MB)\n",
      "\u001b[2K   \u001b[38;2;114;156;31m━━━━━━━━━━━━━━━━━━━━━━━━━━━━━━━━━━━━━━━━\u001b[0m \u001b[32m297.1/297.1 MB\u001b[0m \u001b[31m3.3 MB/s\u001b[0m eta \u001b[36m0:00:00\u001b[0m0m eta \u001b[36m0:00:01\u001b[0m[36m0:00:01\u001b[0m\n",
      "\u001b[?25hInstalling collected packages: xgboost\n",
      "Successfully installed xgboost-2.0.0\n"
     ]
    }
   ],
   "source": [
    "!pip install xgboost"
   ]
  },
  {
   "cell_type": "code",
   "execution_count": 19,
   "id": "42bb5e33",
   "metadata": {},
   "outputs": [],
   "source": [
    "import xgboost as xgb"
   ]
  },
  {
   "cell_type": "code",
   "execution_count": 24,
   "id": "87dcb5bc",
   "metadata": {},
   "outputs": [],
   "source": [
    "featurenames = dv.get_feature_names_out()\n",
    "featurenames = [i.replace(\"<\", \"lessthan\") for i in featurenames]\n",
    "dtrain = xgb.DMatrix(X_train, label = y_train, feature_names = featurenames)\n",
    "dval = xgb.DMatrix(X_val, label = y_val, feature_names = featurenames)"
   ]
  },
  {
   "cell_type": "code",
   "execution_count": 29,
   "id": "71eaa69a",
   "metadata": {
    "scrolled": true
   },
   "outputs": [
    {
     "name": "stdout",
     "output_type": "stream",
     "text": [
      "[0]\ttrain-rmse:0.44350\tval-rmse:0.44250\n",
      "[10]\ttrain-rmse:0.21444\tval-rmse:0.25179\n",
      "[20]\ttrain-rmse:0.18524\tval-rmse:0.23978\n",
      "[30]\ttrain-rmse:0.16888\tval-rmse:0.23570\n",
      "[40]\ttrain-rmse:0.15542\tval-rmse:0.23318\n",
      "[50]\ttrain-rmse:0.14536\tval-rmse:0.23225\n",
      "[60]\ttrain-rmse:0.13719\tval-rmse:0.23139\n",
      "[70]\ttrain-rmse:0.12943\tval-rmse:0.23068\n",
      "[80]\ttrain-rmse:0.12192\tval-rmse:0.22886\n",
      "[90]\ttrain-rmse:0.11496\tval-rmse:0.22861\n",
      "[99]\ttrain-rmse:0.10989\tval-rmse:0.22862\n"
     ]
    },
    {
     "data": {
      "text/plain": [
       "<xgboost.core.Booster at 0x7fdb0f746ad0>"
      ]
     },
     "execution_count": 29,
     "metadata": {},
     "output_type": "execute_result"
    }
   ],
   "source": [
    "watchlist = [(dtrain, 'train'), (dval, 'val')]\n",
    "\n",
    "xgb_params = {\n",
    "    'eta': 0.3, \n",
    "    'max_depth': 6,\n",
    "    'min_child_weight': 1,\n",
    "    \n",
    "    'objective': 'reg:squarederror',\n",
    "    'nthread': 8,\n",
    "    \n",
    "    'seed': 1,\n",
    "    'verbosity': 1,\n",
    "}\n",
    "\n",
    "xgb.train(xgb_params, dtrain, num_boost_round = 100,\n",
    "          evals=watchlist, verbose_eval=10)"
   ]
  },
  {
   "cell_type": "code",
   "execution_count": 30,
   "id": "d2275374",
   "metadata": {},
   "outputs": [
    {
     "name": "stdout",
     "output_type": "stream",
     "text": [
      "[0]\ttrain-rmse:0.52449\tval-rmse:0.52045\n",
      "[10]\ttrain-rmse:0.30326\tval-rmse:0.31427\n",
      "[20]\ttrain-rmse:0.24512\tval-rmse:0.26882\n",
      "[30]\ttrain-rmse:0.21887\tval-rmse:0.25266\n",
      "[40]\ttrain-rmse:0.20392\tval-rmse:0.24539\n",
      "[50]\ttrain-rmse:0.19215\tval-rmse:0.24020\n",
      "[60]\ttrain-rmse:0.18457\tval-rmse:0.23791\n",
      "[70]\ttrain-rmse:0.17741\tval-rmse:0.23622\n",
      "[80]\ttrain-rmse:0.17242\tval-rmse:0.23453\n",
      "[90]\ttrain-rmse:0.16797\tval-rmse:0.23332\n",
      "[99]\ttrain-rmse:0.16323\tval-rmse:0.23209\n"
     ]
    },
    {
     "data": {
      "text/plain": [
       "<xgboost.core.Booster at 0x7fdb0f6f7090>"
      ]
     },
     "execution_count": 30,
     "metadata": {},
     "output_type": "execute_result"
    }
   ],
   "source": [
    "xgb_params = {\n",
    "    'eta': 0.1, \n",
    "    'max_depth': 6,\n",
    "    'min_child_weight': 1,\n",
    "    \n",
    "    'objective': 'reg:squarederror',\n",
    "    'nthread': 8,\n",
    "    \n",
    "    'seed': 1,\n",
    "    'verbosity': 1,\n",
    "}\n",
    "\n",
    "xgb.train(xgb_params, dtrain, num_boost_round = 100,\n",
    "          evals=watchlist, verbose_eval=10)"
   ]
  },
  {
   "cell_type": "markdown",
   "id": "c09c059b",
   "metadata": {},
   "source": [
    "Now change `eta` from `0.3` to `0.1`.\n",
    "\n",
    "Which eta leads to the best RMSE score on the validation dataset?\n",
    "\n",
    "* 0.3  <--\n",
    "* 0.1  \n",
    "* Both give equal value"
   ]
  },
  {
   "cell_type": "markdown",
   "id": "bdd61085",
   "metadata": {},
   "source": [
    "## Submit the results\n",
    "\n",
    "- Submit your results here: https://forms.gle/Qa2SuzG7QGZNCaoV9\n",
    "- If your answer doesn't match options exactly, select the closest one.\n",
    "- You can submit your solution multiple times. In this case, only the last submission will be used\n",
    "\n",
    "## Deadline\n",
    "\n",
    "The deadline for submitting is October 23 (Monday), 23:00 CET. After that the form will be closed."
   ]
  },
  {
   "cell_type": "code",
   "execution_count": null,
   "id": "fbee6144",
   "metadata": {},
   "outputs": [],
   "source": []
  }
 ],
 "metadata": {
  "kernelspec": {
   "display_name": "Python 3 (ipykernel)",
   "language": "python",
   "name": "python3"
  },
  "language_info": {
   "codemirror_mode": {
    "name": "ipython",
    "version": 3
   },
   "file_extension": ".py",
   "mimetype": "text/x-python",
   "name": "python",
   "nbconvert_exporter": "python",
   "pygments_lexer": "ipython3",
   "version": "3.11.5"
  }
 },
 "nbformat": 4,
 "nbformat_minor": 5
}
