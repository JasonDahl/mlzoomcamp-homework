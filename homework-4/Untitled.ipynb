{
 "cells": [
  {
   "cell_type": "markdown",
   "id": "e32ea44e",
   "metadata": {},
   "source": [
    "## Homework 4: Model evaluation"
   ]
  },
  {
   "cell_type": "markdown",
   "id": "4f07ee85",
   "metadata": {},
   "source": [
    "## Homework\n",
    "\n",
    "> Note: sometimes your answer doesn't match one of \n",
    "> the options exactly. That's fine. \n",
    "> Select the option that's closest to your solution.\n",
    "\n",
    "\n",
    "In this homework, we will use the Car price dataset like last week. Download it from [here](https://raw.githubusercontent.com/alexeygrigorev/mlbookcamp-code/master/chapter-02-car-price/data.csv).\n",
    "\n",
    "Or you can do it with `wget`:\n",
    "\n",
    "```bash\n",
    "wget https://raw.githubusercontent.com/alexeygrigorev/mlbookcamp-code/master/chapter-02-car-price/data.csv\n",
    "```"
   ]
  },
  {
   "cell_type": "code",
   "execution_count": 1,
   "id": "c90df883",
   "metadata": {},
   "outputs": [
    {
     "name": "stdout",
     "output_type": "stream",
     "text": [
      "--2023-10-05 15:45:04--  https://raw.githubusercontent.com/alexeygrigorev/mlbookcamp-code/master/chapter-02-car-price/data.csv\n",
      "Resolving raw.githubusercontent.com (raw.githubusercontent.com)... 2606:50c0:8000::154, 2606:50c0:8003::154, 2606:50c0:8002::154, ...\n",
      "Connecting to raw.githubusercontent.com (raw.githubusercontent.com)|2606:50c0:8000::154|:443... connected.\n",
      "HTTP request sent, awaiting response... 200 OK\n",
      "Length: 1475504 (1.4M) [text/plain]\n",
      "Saving to: ‘data.csv’\n",
      "\n",
      "data.csv            100%[===================>]   1.41M  --.-KB/s    in 0.06s   \n",
      "\n",
      "2023-10-05 15:45:05 (24.9 MB/s) - ‘data.csv’ saved [1475504/1475504]\n",
      "\n"
     ]
    }
   ],
   "source": [
    "#!wget https://raw.githubusercontent.com/alexeygrigorev/mlbookcamp-code/master/chapter-02-car-price/data.csv"
   ]
  },
  {
   "cell_type": "markdown",
   "id": "c5b6acd5",
   "metadata": {},
   "source": [
    "We'll work with the `MSRP` variable, and we'll transform it to a classification task. \n",
    "\n",
    "For the rest of the homework, you'll need to use only these columns:\n",
    "\n",
    "* `Make`,\n",
    "* `Model`,\n",
    "* `Year`,\n",
    "* `Engine HP`,\n",
    "* `Engine Cylinders`,\n",
    "* `Transmission Type`,\n",
    "* `Vehicle Style`,\n",
    "* `highway MPG`,\n",
    "* `city mpg`\n",
    "* `MSRP`\n",
    "\n",
    "\n",
    "### Data preparation\n",
    "\n",
    "* Keep only the columns above\n",
    "* Lowercase the column names and replace spaces with underscores\n",
    "* Fill the missing values with 0 \n",
    "* Make the price binary (1 if above the average, 0 otherwise) - this will be our target variable `above_average`\n",
    "\n",
    "Split the data into 3 parts: train/validation/test with 60%/20%/20% distribution. Use `train_test_split` function for that with `random_state=1`"
   ]
  },
  {
   "cell_type": "code",
   "execution_count": 2,
   "id": "f9c0ebc9",
   "metadata": {},
   "outputs": [],
   "source": [
    "import numpy as np\n",
    "import pandas as pd\n",
    "import matplotlib.pyplot as plt\n",
    "import seaborn as sns\n",
    "\n",
    "%matplotlib inline"
   ]
  },
  {
   "cell_type": "code",
   "execution_count": 3,
   "id": "9267a124",
   "metadata": {},
   "outputs": [],
   "source": [
    "columns = ['Make','Model','Year','Engine HP','Engine Cylinders','Transmission Type',\n",
    "                       'Vehicle Style','highway MPG','city mpg']\n",
    "labels = ['MSRP']"
   ]
  },
  {
   "cell_type": "code",
   "execution_count": null,
   "id": "036a5d2c",
   "metadata": {},
   "outputs": [],
   "source": [
    "def clean_data(df):\n",
    "    columns = ['Make','Model','Year','Engine HP','Engine Cylinders','Transmission Type',\n",
    "                       'Vehicle Style','highway MPG','city mpg']\n",
    "    df_clean = df[columns].fillna(0)\n",
    "    labels = df['MSRP']\n",
    "    df_clean = df_clean.join(labels)\n",
    "    df_clean.columns = df_clean.columns.str.replace(' ', '_').str.lower()\n",
    "    df_clean = df_clean.rename(columns={'msrp':'price'})\n",
    "    \n",
    "    return df_clean"
   ]
  },
  {
   "cell_type": "code",
   "execution_count": null,
   "id": "4f900fd4",
   "metadata": {},
   "outputs": [],
   "source": [
    "def make_price_binary(df):\n",
    "    price_mean = df['price'].mean()\n",
    "    df['above_average'] = df['price'].apply(lambda x: 1 if x > price_mean else 0)\n",
    "    del df['price'] \n",
    "    \n",
    "    return df"
   ]
  },
  {
   "cell_type": "code",
   "execution_count": null,
   "id": "324edefa",
   "metadata": {},
   "outputs": [],
   "source": []
  }
 ],
 "metadata": {
  "kernelspec": {
   "display_name": "Python 3 (ipykernel)",
   "language": "python",
   "name": "python3"
  },
  "language_info": {
   "codemirror_mode": {
    "name": "ipython",
    "version": 3
   },
   "file_extension": ".py",
   "mimetype": "text/x-python",
   "name": "python",
   "nbconvert_exporter": "python",
   "pygments_lexer": "ipython3",
   "version": "3.11.5"
  }
 },
 "nbformat": 4,
 "nbformat_minor": 5
}
