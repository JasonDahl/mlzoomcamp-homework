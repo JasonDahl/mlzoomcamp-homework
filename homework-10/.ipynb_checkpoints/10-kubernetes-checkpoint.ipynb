{
 "cells": [
  {
   "cell_type": "markdown",
   "id": "72a1a1c7",
   "metadata": {},
   "source": [
    "# Homework 10: Kubernetes and Tensorflow Serving\n",
    "\n",
    "In this homework, we'll deploy the credit scoring model from the homework 5.\n",
    "We already have a docker image for this model - we'll use it for \n",
    "deploying the model to Kubernetes.\n"
   ]
  },
  {
   "cell_type": "markdown",
   "id": "72ddcc72",
   "metadata": {},
   "source": [
    "# Bulding the image\n",
    "\n",
    "Clone the course repo if you haven't:\n",
    "\n",
    "```\n",
    "git clone https://github.com/DataTalksClub/machine-learning-zoomcamp.git\n",
    "```\n",
    "\n",
    "Go to the `course-zoomcamp/cohorts/2023/05-deployment/homework` folder and \n",
    "execute the following:\n",
    "\n",
    "\n",
    "```bash\n",
    "docker build -t zoomcamp-model:hw10 .\n",
    "```\n",
    "\n",
    "> **Note:** If you have troubles building the image, you can \n",
    "> use the image we built and published to docker hub:\n",
    "> `docker pull svizor/zoomcamp-model:hw10`\n"
   ]
  },
  {
   "cell_type": "code",
   "execution_count": 1,
   "id": "6da456d8",
   "metadata": {},
   "outputs": [
    {
     "name": "stdout",
     "output_type": "stream",
     "text": [
      "REPOSITORY       TAG       IMAGE ID       CREATED         SIZE\r\n",
      "zoomcamp-model   hw10      f04a05df689c   2 minutes ago   504MB\r\n"
     ]
    }
   ],
   "source": [
    "!docker images --filter \"reference=zoomcamp-model:hw10\""
   ]
  },
  {
   "cell_type": "markdown",
   "id": "87479e94",
   "metadata": {},
   "source": [
    "## Question 1\n",
    "\n",
    "Run it to test that it's working locally:\n",
    "\n",
    "```bash\n",
    "docker run -it --rm -p 9696:9696 zoomcamp-model:hw10\n",
    "```\n",
    "\n",
    "And in another terminal, execute `q6_test.py` file:\n",
    "\n",
    "```bash\n",
    "python q6_test.py\n",
    "```\n",
    "\n",
    "You should see this:\n",
    "\n",
    "```python\n",
    "{'get_credit': True, 'get_credit_probability': <value>}\n",
    "```"
   ]
  },
  {
   "cell_type": "code",
   "execution_count": 2,
   "id": "1a35dbe6",
   "metadata": {},
   "outputs": [
    {
     "name": "stdout",
     "output_type": "stream",
     "text": [
      "{'get_credit': True, 'get_credit_probability': 0.726936946355423}\r\n"
     ]
    }
   ],
   "source": [
    "!python q6_test.py"
   ]
  },
  {
   "cell_type": "markdown",
   "id": "83b38beb",
   "metadata": {},
   "source": [
    "Here `<value>` is the probability of getting a credit card. You need to choose the right one.\n",
    "\n",
    "* 0.3269\n",
    "* 0.5269\n",
    "* 0.7269  <--\n",
    "* 0.9269\n",
    "\n",
    "Now you can stop the container running in Docker."
   ]
  },
  {
   "cell_type": "markdown",
   "id": "8be82de8",
   "metadata": {},
   "source": [
    "## Installing `kubectl` and `kind`\n",
    "\n",
    "You need to install:\n",
    "\n",
    "* `kubectl` - https://kubernetes.io/docs/tasks/tools/ (you might already have it - check before installing)\n",
    "* `kind` - https://kind.sigs.k8s.io/docs/user/quick-start/"
   ]
  },
  {
   "cell_type": "markdown",
   "id": "575e6267",
   "metadata": {},
   "source": [
    "## Question 2\n",
    "\n",
    "What's the version of `kind` that you have? \n",
    "\n",
    "Use `kind --version` to find out."
   ]
  },
  {
   "cell_type": "code",
   "execution_count": null,
   "id": "09ad6a32",
   "metadata": {},
   "outputs": [],
   "source": []
  }
 ],
 "metadata": {
  "kernelspec": {
   "display_name": "Python 3 (ipykernel)",
   "language": "python",
   "name": "python3"
  },
  "language_info": {
   "codemirror_mode": {
    "name": "ipython",
    "version": 3
   },
   "file_extension": ".py",
   "mimetype": "text/x-python",
   "name": "python",
   "nbconvert_exporter": "python",
   "pygments_lexer": "ipython3",
   "version": "3.11.5"
  }
 },
 "nbformat": 4,
 "nbformat_minor": 5
}
