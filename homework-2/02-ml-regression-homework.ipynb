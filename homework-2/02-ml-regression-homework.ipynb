{
 "cells": [
  {
   "cell_type": "markdown",
   "id": "ad16247b",
   "metadata": {},
   "source": [
    "## Homework 2: Machine Learning for Regression\n",
    "\n",
    "### Dataset\n",
    "\n",
    "In this homework, we will use the California Housing Prices from [Kaggle](https://www.kaggle.com/datasets/camnugent/california-housing-prices).\n",
    "\n",
    "Here's a wget-able [link](https://raw.githubusercontent.com/alexeygrigorev/datasets/master/housing.csv):\n",
    "\n",
    "```bash\n",
    "wget https://raw.githubusercontent.com/alexeygrigorev/datasets/master/housing.csv\n",
    "```\n",
    "\n",
    "The goal of this homework is to create a regression model for predicting housing prices (column `'median_house_value'`)."
   ]
  },
  {
   "cell_type": "code",
   "execution_count": 1,
   "id": "ebabbde6",
   "metadata": {},
   "outputs": [],
   "source": [
    "#!wget https://raw.githubusercontent.com/alexeygrigorev/datasets/master/housing.csv"
   ]
  },
  {
   "cell_type": "markdown",
   "id": "2673a6ec",
   "metadata": {},
   "source": [
    "### EDA\n",
    "\n",
    "* Load the data.\n",
    "* Look at the `median_house_value` variable. Does it have a long tail? \n"
   ]
  },
  {
   "cell_type": "code",
   "execution_count": 1,
   "id": "3733cf3e",
   "metadata": {},
   "outputs": [],
   "source": [
    "import numpy as np\n",
    "import pandas as pd\n",
    "import matplotlib.pyplot as plt\n",
    "import seaborn as sns\n",
    "%matplotlib inline"
   ]
  },
  {
   "cell_type": "code",
   "execution_count": 2,
   "id": "9dcfbf6d",
   "metadata": {},
   "outputs": [],
   "source": [
    "df = pd.read_csv('housing.csv')"
   ]
  },
  {
   "cell_type": "code",
   "execution_count": 3,
   "id": "3ceb5be6",
   "metadata": {},
   "outputs": [
    {
     "data": {
      "text/html": [
       "<div>\n",
       "<style scoped>\n",
       "    .dataframe tbody tr th:only-of-type {\n",
       "        vertical-align: middle;\n",
       "    }\n",
       "\n",
       "    .dataframe tbody tr th {\n",
       "        vertical-align: top;\n",
       "    }\n",
       "\n",
       "    .dataframe thead th {\n",
       "        text-align: right;\n",
       "    }\n",
       "</style>\n",
       "<table border=\"1\" class=\"dataframe\">\n",
       "  <thead>\n",
       "    <tr style=\"text-align: right;\">\n",
       "      <th></th>\n",
       "      <th>longitude</th>\n",
       "      <th>latitude</th>\n",
       "      <th>housing_median_age</th>\n",
       "      <th>total_rooms</th>\n",
       "      <th>total_bedrooms</th>\n",
       "      <th>population</th>\n",
       "      <th>households</th>\n",
       "      <th>median_income</th>\n",
       "      <th>median_house_value</th>\n",
       "      <th>ocean_proximity</th>\n",
       "    </tr>\n",
       "  </thead>\n",
       "  <tbody>\n",
       "    <tr>\n",
       "      <th>0</th>\n",
       "      <td>-122.23</td>\n",
       "      <td>37.88</td>\n",
       "      <td>41.0</td>\n",
       "      <td>880.0</td>\n",
       "      <td>129.0</td>\n",
       "      <td>322.0</td>\n",
       "      <td>126.0</td>\n",
       "      <td>8.3252</td>\n",
       "      <td>452600.0</td>\n",
       "      <td>NEAR BAY</td>\n",
       "    </tr>\n",
       "    <tr>\n",
       "      <th>1</th>\n",
       "      <td>-122.22</td>\n",
       "      <td>37.86</td>\n",
       "      <td>21.0</td>\n",
       "      <td>7099.0</td>\n",
       "      <td>1106.0</td>\n",
       "      <td>2401.0</td>\n",
       "      <td>1138.0</td>\n",
       "      <td>8.3014</td>\n",
       "      <td>358500.0</td>\n",
       "      <td>NEAR BAY</td>\n",
       "    </tr>\n",
       "    <tr>\n",
       "      <th>2</th>\n",
       "      <td>-122.24</td>\n",
       "      <td>37.85</td>\n",
       "      <td>52.0</td>\n",
       "      <td>1467.0</td>\n",
       "      <td>190.0</td>\n",
       "      <td>496.0</td>\n",
       "      <td>177.0</td>\n",
       "      <td>7.2574</td>\n",
       "      <td>352100.0</td>\n",
       "      <td>NEAR BAY</td>\n",
       "    </tr>\n",
       "    <tr>\n",
       "      <th>3</th>\n",
       "      <td>-122.25</td>\n",
       "      <td>37.85</td>\n",
       "      <td>52.0</td>\n",
       "      <td>1274.0</td>\n",
       "      <td>235.0</td>\n",
       "      <td>558.0</td>\n",
       "      <td>219.0</td>\n",
       "      <td>5.6431</td>\n",
       "      <td>341300.0</td>\n",
       "      <td>NEAR BAY</td>\n",
       "    </tr>\n",
       "    <tr>\n",
       "      <th>4</th>\n",
       "      <td>-122.25</td>\n",
       "      <td>37.85</td>\n",
       "      <td>52.0</td>\n",
       "      <td>1627.0</td>\n",
       "      <td>280.0</td>\n",
       "      <td>565.0</td>\n",
       "      <td>259.0</td>\n",
       "      <td>3.8462</td>\n",
       "      <td>342200.0</td>\n",
       "      <td>NEAR BAY</td>\n",
       "    </tr>\n",
       "  </tbody>\n",
       "</table>\n",
       "</div>"
      ],
      "text/plain": [
       "   longitude  latitude  housing_median_age  total_rooms  total_bedrooms  \\\n",
       "0    -122.23     37.88                41.0        880.0           129.0   \n",
       "1    -122.22     37.86                21.0       7099.0          1106.0   \n",
       "2    -122.24     37.85                52.0       1467.0           190.0   \n",
       "3    -122.25     37.85                52.0       1274.0           235.0   \n",
       "4    -122.25     37.85                52.0       1627.0           280.0   \n",
       "\n",
       "   population  households  median_income  median_house_value ocean_proximity  \n",
       "0       322.0       126.0         8.3252            452600.0        NEAR BAY  \n",
       "1      2401.0      1138.0         8.3014            358500.0        NEAR BAY  \n",
       "2       496.0       177.0         7.2574            352100.0        NEAR BAY  \n",
       "3       558.0       219.0         5.6431            341300.0        NEAR BAY  \n",
       "4       565.0       259.0         3.8462            342200.0        NEAR BAY  "
      ]
     },
     "execution_count": 3,
     "metadata": {},
     "output_type": "execute_result"
    }
   ],
   "source": [
    "df.head()"
   ]
  },
  {
   "cell_type": "markdown",
   "id": "b1642fb6",
   "metadata": {},
   "source": [
    "### Question 1\n",
    "\n",
    "There's one feature with missing values. What is it?\n",
    "\n",
    "* `total_rooms`\n",
    "* `total_bedrooms` <--\n",
    "* `population`\n",
    "* `households`\n"
   ]
  },
  {
   "cell_type": "code",
   "execution_count": 4,
   "id": "21b2fa8e",
   "metadata": {
    "scrolled": false
   },
   "outputs": [
    {
     "name": "stdout",
     "output_type": "stream",
     "text": [
      "<class 'pandas.core.frame.DataFrame'>\n",
      "RangeIndex: 20640 entries, 0 to 20639\n",
      "Data columns (total 10 columns):\n",
      " #   Column              Non-Null Count  Dtype  \n",
      "---  ------              --------------  -----  \n",
      " 0   longitude           20640 non-null  float64\n",
      " 1   latitude            20640 non-null  float64\n",
      " 2   housing_median_age  20640 non-null  float64\n",
      " 3   total_rooms         20640 non-null  float64\n",
      " 4   total_bedrooms      20433 non-null  float64\n",
      " 5   population          20640 non-null  float64\n",
      " 6   households          20640 non-null  float64\n",
      " 7   median_income       20640 non-null  float64\n",
      " 8   median_house_value  20640 non-null  float64\n",
      " 9   ocean_proximity     20640 non-null  object \n",
      "dtypes: float64(9), object(1)\n",
      "memory usage: 1.6+ MB\n"
     ]
    }
   ],
   "source": [
    "df.info()"
   ]
  },
  {
   "cell_type": "code",
   "execution_count": 5,
   "id": "627ad67c",
   "metadata": {},
   "outputs": [
    {
     "data": {
      "text/plain": [
       "longitude               0\n",
       "latitude                0\n",
       "housing_median_age      0\n",
       "total_rooms             0\n",
       "total_bedrooms        207\n",
       "population              0\n",
       "households              0\n",
       "median_income           0\n",
       "median_house_value      0\n",
       "ocean_proximity         0\n",
       "dtype: int64"
      ]
     },
     "execution_count": 5,
     "metadata": {},
     "output_type": "execute_result"
    }
   ],
   "source": [
    "df.isnull().sum()"
   ]
  },
  {
   "cell_type": "markdown",
   "id": "480f27a6",
   "metadata": {},
   "source": [
    "#### The `'total_bedrooms'` column is missing some values, as it was in Homework 1.  Let's look at the distribution of median house values."
   ]
  },
  {
   "cell_type": "markdown",
   "id": "2dceb210",
   "metadata": {},
   "source": [
    "### Question 2\n",
    "\n",
    "What's the median (50% percentile) for variable `'population'`?\n",
    "\n",
    "- 995\n",
    "- 1095\n",
    "- 1195 <--\n",
    "- 1295\n"
   ]
  },
  {
   "cell_type": "code",
   "execution_count": 6,
   "id": "be971dc0",
   "metadata": {
    "scrolled": false
   },
   "outputs": [
    {
     "data": {
      "text/plain": [
       "Index(['longitude', 'latitude', 'housing_median_age', 'total_rooms',\n",
       "       'total_bedrooms', 'population', 'households', 'median_income',\n",
       "       'median_house_value'],\n",
       "      dtype='object')"
      ]
     },
     "execution_count": 6,
     "metadata": {},
     "output_type": "execute_result"
    }
   ],
   "source": [
    "df.columns[df.dtypes == 'float64']"
   ]
  },
  {
   "cell_type": "code",
   "execution_count": 7,
   "id": "31c05972",
   "metadata": {},
   "outputs": [
    {
     "data": {
      "text/html": [
       "<div>\n",
       "<style scoped>\n",
       "    .dataframe tbody tr th:only-of-type {\n",
       "        vertical-align: middle;\n",
       "    }\n",
       "\n",
       "    .dataframe tbody tr th {\n",
       "        vertical-align: top;\n",
       "    }\n",
       "\n",
       "    .dataframe thead th {\n",
       "        text-align: right;\n",
       "    }\n",
       "</style>\n",
       "<table border=\"1\" class=\"dataframe\">\n",
       "  <thead>\n",
       "    <tr style=\"text-align: right;\">\n",
       "      <th></th>\n",
       "      <th>housing_median_age</th>\n",
       "      <th>total_rooms</th>\n",
       "      <th>total_bedrooms</th>\n",
       "      <th>population</th>\n",
       "      <th>households</th>\n",
       "      <th>median_income</th>\n",
       "      <th>median_house_value</th>\n",
       "    </tr>\n",
       "  </thead>\n",
       "  <tbody>\n",
       "    <tr>\n",
       "      <th>count</th>\n",
       "      <td>20640.000000</td>\n",
       "      <td>20640.000000</td>\n",
       "      <td>20433.000000</td>\n",
       "      <td>20640.000000</td>\n",
       "      <td>20640.000000</td>\n",
       "      <td>20640.000000</td>\n",
       "      <td>20640.000000</td>\n",
       "    </tr>\n",
       "    <tr>\n",
       "      <th>mean</th>\n",
       "      <td>28.639486</td>\n",
       "      <td>2635.763081</td>\n",
       "      <td>537.870553</td>\n",
       "      <td>1425.476744</td>\n",
       "      <td>499.539680</td>\n",
       "      <td>3.870671</td>\n",
       "      <td>206855.816909</td>\n",
       "    </tr>\n",
       "    <tr>\n",
       "      <th>std</th>\n",
       "      <td>12.585558</td>\n",
       "      <td>2181.615252</td>\n",
       "      <td>421.385070</td>\n",
       "      <td>1132.462122</td>\n",
       "      <td>382.329753</td>\n",
       "      <td>1.899822</td>\n",
       "      <td>115395.615874</td>\n",
       "    </tr>\n",
       "    <tr>\n",
       "      <th>min</th>\n",
       "      <td>1.000000</td>\n",
       "      <td>2.000000</td>\n",
       "      <td>1.000000</td>\n",
       "      <td>3.000000</td>\n",
       "      <td>1.000000</td>\n",
       "      <td>0.499900</td>\n",
       "      <td>14999.000000</td>\n",
       "    </tr>\n",
       "    <tr>\n",
       "      <th>25%</th>\n",
       "      <td>18.000000</td>\n",
       "      <td>1447.750000</td>\n",
       "      <td>296.000000</td>\n",
       "      <td>787.000000</td>\n",
       "      <td>280.000000</td>\n",
       "      <td>2.563400</td>\n",
       "      <td>119600.000000</td>\n",
       "    </tr>\n",
       "    <tr>\n",
       "      <th>50%</th>\n",
       "      <td>29.000000</td>\n",
       "      <td>2127.000000</td>\n",
       "      <td>435.000000</td>\n",
       "      <td>1166.000000</td>\n",
       "      <td>409.000000</td>\n",
       "      <td>3.534800</td>\n",
       "      <td>179700.000000</td>\n",
       "    </tr>\n",
       "    <tr>\n",
       "      <th>75%</th>\n",
       "      <td>37.000000</td>\n",
       "      <td>3148.000000</td>\n",
       "      <td>647.000000</td>\n",
       "      <td>1725.000000</td>\n",
       "      <td>605.000000</td>\n",
       "      <td>4.743250</td>\n",
       "      <td>264725.000000</td>\n",
       "    </tr>\n",
       "    <tr>\n",
       "      <th>max</th>\n",
       "      <td>52.000000</td>\n",
       "      <td>39320.000000</td>\n",
       "      <td>6445.000000</td>\n",
       "      <td>35682.000000</td>\n",
       "      <td>6082.000000</td>\n",
       "      <td>15.000100</td>\n",
       "      <td>500001.000000</td>\n",
       "    </tr>\n",
       "  </tbody>\n",
       "</table>\n",
       "</div>"
      ],
      "text/plain": [
       "       housing_median_age   total_rooms  total_bedrooms    population  \\\n",
       "count        20640.000000  20640.000000    20433.000000  20640.000000   \n",
       "mean            28.639486   2635.763081      537.870553   1425.476744   \n",
       "std             12.585558   2181.615252      421.385070   1132.462122   \n",
       "min              1.000000      2.000000        1.000000      3.000000   \n",
       "25%             18.000000   1447.750000      296.000000    787.000000   \n",
       "50%             29.000000   2127.000000      435.000000   1166.000000   \n",
       "75%             37.000000   3148.000000      647.000000   1725.000000   \n",
       "max             52.000000  39320.000000     6445.000000  35682.000000   \n",
       "\n",
       "         households  median_income  median_house_value  \n",
       "count  20640.000000   20640.000000        20640.000000  \n",
       "mean     499.539680       3.870671       206855.816909  \n",
       "std      382.329753       1.899822       115395.615874  \n",
       "min        1.000000       0.499900        14999.000000  \n",
       "25%      280.000000       2.563400       119600.000000  \n",
       "50%      409.000000       3.534800       179700.000000  \n",
       "75%      605.000000       4.743250       264725.000000  \n",
       "max     6082.000000      15.000100       500001.000000  "
      ]
     },
     "execution_count": 7,
     "metadata": {},
     "output_type": "execute_result"
    }
   ],
   "source": [
    "df[['housing_median_age', 'total_rooms','total_bedrooms', 'population',\\\n",
    "    'households', 'median_income','median_house_value']].describe()"
   ]
  },
  {
   "cell_type": "markdown",
   "id": "a9060534",
   "metadata": {},
   "source": [
    "####  The median value of `'population'` is 1166.  The mean value of `'median_house_values'` is up near the 75th percentile value.  There is probably a long tail.  Let's plot a histogram."
   ]
  },
  {
   "cell_type": "code",
   "execution_count": 8,
   "id": "dda6ee9c",
   "metadata": {
    "scrolled": false
   },
   "outputs": [
    {
     "data": {
      "text/plain": [
       "<Axes: xlabel='median_house_value', ylabel='Count'>"
      ]
     },
     "execution_count": 8,
     "metadata": {},
     "output_type": "execute_result"
    },
    {
     "data": {
      "image/png": "[encoded data removed]",
      "text/plain": [
       "<Figure size 640x480 with 1 Axes>"
      ]
     },
     "metadata": {},
     "output_type": "display_data"
    }
   ],
   "source": [
    "sns.histplot(df.median_house_value, bins=70)"
   ]
  },
  {
   "cell_type": "markdown",
   "id": "793d78d5",
   "metadata": {},
   "source": [
    "#### Not only is there a long tail, there's a large number of values near 500,000 dollars.  Values above this were probably set to 500000.  We should consider dropping these, and maybe we will."
   ]
  },
  {
   "cell_type": "code",
   "execution_count": 9,
   "id": "3a0d0ba5",
   "metadata": {},
   "outputs": [
    {
     "data": {
      "text/plain": [
       "10"
      ]
     },
     "execution_count": 9,
     "metadata": {},
     "output_type": "execute_result"
    }
   ],
   "source": [
    "df[df.median_house_value > 497000].median_house_value.nunique()"
   ]
  },
  {
   "cell_type": "code",
   "execution_count": 10,
   "id": "cc0af462",
   "metadata": {},
   "outputs": [
    {
     "data": {
      "text/plain": [
       "median_house_value\n",
       "500001.0    965\n",
       "500000.0     27\n",
       "499000.0      1\n",
       "497600.0      1\n",
       "498700.0      1\n",
       "498400.0      1\n",
       "497400.0      1\n",
       "498600.0      1\n",
       "499100.0      1\n",
       "498800.0      1\n",
       "Name: count, dtype: int64"
      ]
     },
     "execution_count": 10,
     "metadata": {},
     "output_type": "execute_result"
    }
   ],
   "source": [
    "df[df.median_house_value > 497000].median_house_value.value_counts().sort_values(ascending=False)"
   ]
  },
  {
   "cell_type": "markdown",
   "id": "cbc19c83",
   "metadata": {},
   "source": [
    "### Preparing the dataset \n",
    "\n",
    "For this homework, we only want to use a subset of data. \n",
    "\n",
    "First, keep only the records where `ocean_proximity` is either `'<1H OCEAN'` or `'INLAND'`\n",
    "\n",
    "Next, use only the following columns:\n",
    "\n",
    "* `'latitude'`,\n",
    "* `'longitude'`,\n",
    "* `'housing_median_age'`,\n",
    "* `'total_rooms'`,\n",
    "* `'total_bedrooms'`,\n",
    "* `'population'`,\n",
    "* `'households'`,\n",
    "* `'median_income'`,\n",
    "* `'median_house_value'`"
   ]
  },
  {
   "cell_type": "markdown",
   "id": "45e202df",
   "metadata": {},
   "source": [
    "### Prepare and split the dataset\n",
    "\n",
    "* Shuffle the dataset (the filtered one you created above), use seed `42`.\n",
    "* Split your data in train/val/test sets, with 60%/20%/20% distribution.\n",
    "* Apply the log transformation to the `median_house_value` variable using the `np.log1p()` function."
   ]
  },
  {
   "cell_type": "code",
   "execution_count": 11,
   "id": "a4889799",
   "metadata": {},
   "outputs": [
    {
     "data": {
      "text/plain": [
       "20640"
      ]
     },
     "execution_count": 11,
     "metadata": {},
     "output_type": "execute_result"
    }
   ],
   "source": [
    "len(df)"
   ]
  },
  {
   "cell_type": "code",
   "execution_count": 48,
   "id": "604147dc",
   "metadata": {},
   "outputs": [
    {
     "data": {
      "text/html": [
       "<div>\n",
       "<style scoped>\n",
       "    .dataframe tbody tr th:only-of-type {\n",
       "        vertical-align: middle;\n",
       "    }\n",
       "\n",
       "    .dataframe tbody tr th {\n",
       "        vertical-align: top;\n",
       "    }\n",
       "\n",
       "    .dataframe thead th {\n",
       "        text-align: right;\n",
       "    }\n",
       "</style>\n",
       "<table border=\"1\" class=\"dataframe\">\n",
       "  <thead>\n",
       "    <tr style=\"text-align: right;\">\n",
       "      <th></th>\n",
       "      <th>longitude</th>\n",
       "      <th>latitude</th>\n",
       "      <th>housing_median_age</th>\n",
       "      <th>total_rooms</th>\n",
       "      <th>total_bedrooms</th>\n",
       "      <th>population</th>\n",
       "      <th>households</th>\n",
       "      <th>median_income</th>\n",
       "      <th>median_house_value</th>\n",
       "      <th>ocean_proximity</th>\n",
       "    </tr>\n",
       "  </thead>\n",
       "  <tbody>\n",
       "    <tr>\n",
       "      <th>701</th>\n",
       "      <td>-121.97</td>\n",
       "      <td>37.64</td>\n",
       "      <td>32.0</td>\n",
       "      <td>1283.0</td>\n",
       "      <td>194.0</td>\n",
       "      <td>485.0</td>\n",
       "      <td>171.0</td>\n",
       "      <td>6.0574</td>\n",
       "      <td>431000.0</td>\n",
       "      <td>&lt;1H OCEAN</td>\n",
       "    </tr>\n",
       "    <tr>\n",
       "      <th>830</th>\n",
       "      <td>-121.99</td>\n",
       "      <td>37.61</td>\n",
       "      <td>9.0</td>\n",
       "      <td>3666.0</td>\n",
       "      <td>711.0</td>\n",
       "      <td>2341.0</td>\n",
       "      <td>703.0</td>\n",
       "      <td>4.6458</td>\n",
       "      <td>217000.0</td>\n",
       "      <td>&lt;1H OCEAN</td>\n",
       "    </tr>\n",
       "    <tr>\n",
       "      <th>859</th>\n",
       "      <td>-121.97</td>\n",
       "      <td>37.57</td>\n",
       "      <td>21.0</td>\n",
       "      <td>4342.0</td>\n",
       "      <td>783.0</td>\n",
       "      <td>2172.0</td>\n",
       "      <td>789.0</td>\n",
       "      <td>4.6146</td>\n",
       "      <td>247600.0</td>\n",
       "      <td>&lt;1H OCEAN</td>\n",
       "    </tr>\n",
       "    <tr>\n",
       "      <th>860</th>\n",
       "      <td>-121.96</td>\n",
       "      <td>37.58</td>\n",
       "      <td>15.0</td>\n",
       "      <td>3575.0</td>\n",
       "      <td>597.0</td>\n",
       "      <td>1777.0</td>\n",
       "      <td>559.0</td>\n",
       "      <td>5.7192</td>\n",
       "      <td>283500.0</td>\n",
       "      <td>&lt;1H OCEAN</td>\n",
       "    </tr>\n",
       "    <tr>\n",
       "      <th>861</th>\n",
       "      <td>-121.98</td>\n",
       "      <td>37.58</td>\n",
       "      <td>20.0</td>\n",
       "      <td>4126.0</td>\n",
       "      <td>1031.0</td>\n",
       "      <td>2079.0</td>\n",
       "      <td>975.0</td>\n",
       "      <td>3.6832</td>\n",
       "      <td>216900.0</td>\n",
       "      <td>&lt;1H OCEAN</td>\n",
       "    </tr>\n",
       "  </tbody>\n",
       "</table>\n",
       "</div>"
      ],
      "text/plain": [
       "     longitude  latitude  housing_median_age  total_rooms  total_bedrooms  \\\n",
       "701    -121.97     37.64                32.0       1283.0           194.0   \n",
       "830    -121.99     37.61                 9.0       3666.0           711.0   \n",
       "859    -121.97     37.57                21.0       4342.0           783.0   \n",
       "860    -121.96     37.58                15.0       3575.0           597.0   \n",
       "861    -121.98     37.58                20.0       4126.0          1031.0   \n",
       "\n",
       "     population  households  median_income  median_house_value ocean_proximity  \n",
       "701       485.0       171.0         6.0574            431000.0       <1H OCEAN  \n",
       "830      2341.0       703.0         4.6458            217000.0       <1H OCEAN  \n",
       "859      2172.0       789.0         4.6146            247600.0       <1H OCEAN  \n",
       "860      1777.0       559.0         5.7192            283500.0       <1H OCEAN  \n",
       "861      2079.0       975.0         3.6832            216900.0       <1H OCEAN  "
      ]
     },
     "execution_count": 48,
     "metadata": {},
     "output_type": "execute_result"
    }
   ],
   "source": [
    "df_filt = df.loc[(df['ocean_proximity'] == '<1H OCEAN') | (df['ocean_proximity'] == 'INLAND')]\n",
    "df_filt.head()"
   ]
  },
  {
   "cell_type": "code",
   "execution_count": 53,
   "id": "97d01b84",
   "metadata": {
    "scrolled": true
   },
   "outputs": [],
   "source": [
    "#Remove 'ocean_proximity'\n",
    "del df_shuffled['ocean_proximity']"
   ]
  },
  {
   "cell_type": "code",
   "execution_count": 49,
   "id": "b9c3f421",
   "metadata": {},
   "outputs": [],
   "source": [
    "#Set the seed for repeatability\n",
    "np.random.seed(42)\n",
    "\n",
    "#Set the lengths of the train, validation, and test sets to 60%, 20%, and 20%\n",
    "n = len(df_filt)\n",
    "\n",
    "n_val = n_test = int(0.2 * n)\n",
    "n_train = n - (n_val + n_test)"
   ]
  },
  {
   "cell_type": "code",
   "execution_count": 50,
   "id": "b34a6dd0",
   "metadata": {},
   "outputs": [],
   "source": [
    "# Shuffle the index to randomize the sets.\n",
    "idx = np.arange(n)\n",
    "np.random.shuffle(idx)\n",
    "\n",
    "df_shuffled = df_filt.iloc[idx]"
   ]
  },
  {
   "cell_type": "code",
   "execution_count": 54,
   "id": "4b61296f",
   "metadata": {
    "scrolled": false
   },
   "outputs": [
    {
     "data": {
      "text/html": [
       "<div>\n",
       "<style scoped>\n",
       "    .dataframe tbody tr th:only-of-type {\n",
       "        vertical-align: middle;\n",
       "    }\n",
       "\n",
       "    .dataframe tbody tr th {\n",
       "        vertical-align: top;\n",
       "    }\n",
       "\n",
       "    .dataframe thead th {\n",
       "        text-align: right;\n",
       "    }\n",
       "</style>\n",
       "<table border=\"1\" class=\"dataframe\">\n",
       "  <thead>\n",
       "    <tr style=\"text-align: right;\">\n",
       "      <th></th>\n",
       "      <th>longitude</th>\n",
       "      <th>latitude</th>\n",
       "      <th>housing_median_age</th>\n",
       "      <th>total_rooms</th>\n",
       "      <th>total_bedrooms</th>\n",
       "      <th>population</th>\n",
       "      <th>households</th>\n",
       "      <th>median_income</th>\n",
       "      <th>median_house_value</th>\n",
       "    </tr>\n",
       "  </thead>\n",
       "  <tbody>\n",
       "    <tr>\n",
       "      <th>19963</th>\n",
       "      <td>-119.14</td>\n",
       "      <td>36.23</td>\n",
       "      <td>22.0</td>\n",
       "      <td>2935.0</td>\n",
       "      <td>523.0</td>\n",
       "      <td>1927.0</td>\n",
       "      <td>530.0</td>\n",
       "      <td>2.5875</td>\n",
       "      <td>70400.0</td>\n",
       "    </tr>\n",
       "    <tr>\n",
       "      <th>5929</th>\n",
       "      <td>-117.79</td>\n",
       "      <td>34.12</td>\n",
       "      <td>16.0</td>\n",
       "      <td>2426.0</td>\n",
       "      <td>426.0</td>\n",
       "      <td>1319.0</td>\n",
       "      <td>446.0</td>\n",
       "      <td>4.8125</td>\n",
       "      <td>224500.0</td>\n",
       "    </tr>\n",
       "    <tr>\n",
       "      <th>11377</th>\n",
       "      <td>-117.97</td>\n",
       "      <td>33.68</td>\n",
       "      <td>26.0</td>\n",
       "      <td>3653.0</td>\n",
       "      <td>568.0</td>\n",
       "      <td>1930.0</td>\n",
       "      <td>585.0</td>\n",
       "      <td>5.7301</td>\n",
       "      <td>260900.0</td>\n",
       "    </tr>\n",
       "    <tr>\n",
       "      <th>6443</th>\n",
       "      <td>-118.03</td>\n",
       "      <td>34.10</td>\n",
       "      <td>32.0</td>\n",
       "      <td>2668.0</td>\n",
       "      <td>609.0</td>\n",
       "      <td>1512.0</td>\n",
       "      <td>541.0</td>\n",
       "      <td>2.9422</td>\n",
       "      <td>233100.0</td>\n",
       "    </tr>\n",
       "    <tr>\n",
       "      <th>17546</th>\n",
       "      <td>-121.87</td>\n",
       "      <td>37.34</td>\n",
       "      <td>39.0</td>\n",
       "      <td>2479.0</td>\n",
       "      <td>541.0</td>\n",
       "      <td>1990.0</td>\n",
       "      <td>506.0</td>\n",
       "      <td>2.4306</td>\n",
       "      <td>289100.0</td>\n",
       "    </tr>\n",
       "  </tbody>\n",
       "</table>\n",
       "</div>"
      ],
      "text/plain": [
       "       longitude  latitude  housing_median_age  total_rooms  total_bedrooms  \\\n",
       "19963    -119.14     36.23                22.0       2935.0           523.0   \n",
       "5929     -117.79     34.12                16.0       2426.0           426.0   \n",
       "11377    -117.97     33.68                26.0       3653.0           568.0   \n",
       "6443     -118.03     34.10                32.0       2668.0           609.0   \n",
       "17546    -121.87     37.34                39.0       2479.0           541.0   \n",
       "\n",
       "       population  households  median_income  median_house_value  \n",
       "19963      1927.0       530.0         2.5875             70400.0  \n",
       "5929       1319.0       446.0         4.8125            224500.0  \n",
       "11377      1930.0       585.0         5.7301            260900.0  \n",
       "6443       1512.0       541.0         2.9422            233100.0  \n",
       "17546      1990.0       506.0         2.4306            289100.0  "
      ]
     },
     "execution_count": 54,
     "metadata": {},
     "output_type": "execute_result"
    }
   ],
   "source": [
    "df_shuffled.head()"
   ]
  },
  {
   "cell_type": "code",
   "execution_count": 55,
   "id": "45aaa11e",
   "metadata": {},
   "outputs": [],
   "source": [
    "# Split out the train, validation, and test sets.  Use .copy() to create new dataframes and reset index\n",
    "df_train = df_shuffled.iloc[:n_train].copy().reset_index(drop=True)\n",
    "df_val = df_shuffled.iloc[n_train:n_train+n_val].copy().reset_index(drop=True)\n",
    "df_test = df_shuffled.iloc[n_train+n_val:].copy().reset_index(drop=True)"
   ]
  },
  {
   "cell_type": "code",
   "execution_count": 56,
   "id": "967a75c3",
   "metadata": {},
   "outputs": [
    {
     "data": {
      "text/html": [
       "<div>\n",
       "<style scoped>\n",
       "    .dataframe tbody tr th:only-of-type {\n",
       "        vertical-align: middle;\n",
       "    }\n",
       "\n",
       "    .dataframe tbody tr th {\n",
       "        vertical-align: top;\n",
       "    }\n",
       "\n",
       "    .dataframe thead th {\n",
       "        text-align: right;\n",
       "    }\n",
       "</style>\n",
       "<table border=\"1\" class=\"dataframe\">\n",
       "  <thead>\n",
       "    <tr style=\"text-align: right;\">\n",
       "      <th></th>\n",
       "      <th>longitude</th>\n",
       "      <th>latitude</th>\n",
       "      <th>housing_median_age</th>\n",
       "      <th>total_rooms</th>\n",
       "      <th>total_bedrooms</th>\n",
       "      <th>population</th>\n",
       "      <th>households</th>\n",
       "      <th>median_income</th>\n",
       "      <th>median_house_value</th>\n",
       "    </tr>\n",
       "  </thead>\n",
       "  <tbody>\n",
       "    <tr>\n",
       "      <th>0</th>\n",
       "      <td>-119.14</td>\n",
       "      <td>36.23</td>\n",
       "      <td>22.0</td>\n",
       "      <td>2935.0</td>\n",
       "      <td>523.0</td>\n",
       "      <td>1927.0</td>\n",
       "      <td>530.0</td>\n",
       "      <td>2.5875</td>\n",
       "      <td>70400.0</td>\n",
       "    </tr>\n",
       "    <tr>\n",
       "      <th>1</th>\n",
       "      <td>-117.79</td>\n",
       "      <td>34.12</td>\n",
       "      <td>16.0</td>\n",
       "      <td>2426.0</td>\n",
       "      <td>426.0</td>\n",
       "      <td>1319.0</td>\n",
       "      <td>446.0</td>\n",
       "      <td>4.8125</td>\n",
       "      <td>224500.0</td>\n",
       "    </tr>\n",
       "    <tr>\n",
       "      <th>2</th>\n",
       "      <td>-117.97</td>\n",
       "      <td>33.68</td>\n",
       "      <td>26.0</td>\n",
       "      <td>3653.0</td>\n",
       "      <td>568.0</td>\n",
       "      <td>1930.0</td>\n",
       "      <td>585.0</td>\n",
       "      <td>5.7301</td>\n",
       "      <td>260900.0</td>\n",
       "    </tr>\n",
       "    <tr>\n",
       "      <th>3</th>\n",
       "      <td>-118.03</td>\n",
       "      <td>34.10</td>\n",
       "      <td>32.0</td>\n",
       "      <td>2668.0</td>\n",
       "      <td>609.0</td>\n",
       "      <td>1512.0</td>\n",
       "      <td>541.0</td>\n",
       "      <td>2.9422</td>\n",
       "      <td>233100.0</td>\n",
       "    </tr>\n",
       "    <tr>\n",
       "      <th>4</th>\n",
       "      <td>-121.87</td>\n",
       "      <td>37.34</td>\n",
       "      <td>39.0</td>\n",
       "      <td>2479.0</td>\n",
       "      <td>541.0</td>\n",
       "      <td>1990.0</td>\n",
       "      <td>506.0</td>\n",
       "      <td>2.4306</td>\n",
       "      <td>289100.0</td>\n",
       "    </tr>\n",
       "  </tbody>\n",
       "</table>\n",
       "</div>"
      ],
      "text/plain": [
       "   longitude  latitude  housing_median_age  total_rooms  total_bedrooms  \\\n",
       "0    -119.14     36.23                22.0       2935.0           523.0   \n",
       "1    -117.79     34.12                16.0       2426.0           426.0   \n",
       "2    -117.97     33.68                26.0       3653.0           568.0   \n",
       "3    -118.03     34.10                32.0       2668.0           609.0   \n",
       "4    -121.87     37.34                39.0       2479.0           541.0   \n",
       "\n",
       "   population  households  median_income  median_house_value  \n",
       "0      1927.0       530.0         2.5875             70400.0  \n",
       "1      1319.0       446.0         4.8125            224500.0  \n",
       "2      1930.0       585.0         5.7301            260900.0  \n",
       "3      1512.0       541.0         2.9422            233100.0  \n",
       "4      1990.0       506.0         2.4306            289100.0  "
      ]
     },
     "execution_count": 56,
     "metadata": {},
     "output_type": "execute_result"
    }
   ],
   "source": [
    "df_train.head()"
   ]
  },
  {
   "cell_type": "code",
   "execution_count": 57,
   "id": "b94e3db2",
   "metadata": {},
   "outputs": [
    {
     "data": {
      "text/html": [
       "<div>\n",
       "<style scoped>\n",
       "    .dataframe tbody tr th:only-of-type {\n",
       "        vertical-align: middle;\n",
       "    }\n",
       "\n",
       "    .dataframe tbody tr th {\n",
       "        vertical-align: top;\n",
       "    }\n",
       "\n",
       "    .dataframe thead th {\n",
       "        text-align: right;\n",
       "    }\n",
       "</style>\n",
       "<table border=\"1\" class=\"dataframe\">\n",
       "  <thead>\n",
       "    <tr style=\"text-align: right;\">\n",
       "      <th></th>\n",
       "      <th>longitude</th>\n",
       "      <th>latitude</th>\n",
       "      <th>housing_median_age</th>\n",
       "      <th>total_rooms</th>\n",
       "      <th>total_bedrooms</th>\n",
       "      <th>population</th>\n",
       "      <th>households</th>\n",
       "      <th>median_income</th>\n",
       "      <th>median_house_value</th>\n",
       "    </tr>\n",
       "  </thead>\n",
       "  <tbody>\n",
       "    <tr>\n",
       "      <th>0</th>\n",
       "      <td>-120.09</td>\n",
       "      <td>37.02</td>\n",
       "      <td>9.0</td>\n",
       "      <td>1608.0</td>\n",
       "      <td>297.0</td>\n",
       "      <td>1057.0</td>\n",
       "      <td>295.0</td>\n",
       "      <td>3.7143</td>\n",
       "      <td>81600.0</td>\n",
       "    </tr>\n",
       "    <tr>\n",
       "      <th>1</th>\n",
       "      <td>-117.88</td>\n",
       "      <td>33.84</td>\n",
       "      <td>34.0</td>\n",
       "      <td>1410.0</td>\n",
       "      <td>214.0</td>\n",
       "      <td>837.0</td>\n",
       "      <td>240.0</td>\n",
       "      <td>6.1168</td>\n",
       "      <td>213900.0</td>\n",
       "    </tr>\n",
       "    <tr>\n",
       "      <th>2</th>\n",
       "      <td>-118.21</td>\n",
       "      <td>33.95</td>\n",
       "      <td>32.0</td>\n",
       "      <td>1116.0</td>\n",
       "      <td>328.0</td>\n",
       "      <td>1265.0</td>\n",
       "      <td>302.0</td>\n",
       "      <td>2.2950</td>\n",
       "      <td>155200.0</td>\n",
       "    </tr>\n",
       "    <tr>\n",
       "      <th>3</th>\n",
       "      <td>-119.32</td>\n",
       "      <td>36.32</td>\n",
       "      <td>29.0</td>\n",
       "      <td>2409.0</td>\n",
       "      <td>436.0</td>\n",
       "      <td>1142.0</td>\n",
       "      <td>440.0</td>\n",
       "      <td>3.6895</td>\n",
       "      <td>87700.0</td>\n",
       "    </tr>\n",
       "    <tr>\n",
       "      <th>4</th>\n",
       "      <td>-117.11</td>\n",
       "      <td>33.14</td>\n",
       "      <td>10.0</td>\n",
       "      <td>3208.0</td>\n",
       "      <td>636.0</td>\n",
       "      <td>1395.0</td>\n",
       "      <td>582.0</td>\n",
       "      <td>3.4455</td>\n",
       "      <td>190500.0</td>\n",
       "    </tr>\n",
       "  </tbody>\n",
       "</table>\n",
       "</div>"
      ],
      "text/plain": [
       "   longitude  latitude  housing_median_age  total_rooms  total_bedrooms  \\\n",
       "0    -120.09     37.02                 9.0       1608.0           297.0   \n",
       "1    -117.88     33.84                34.0       1410.0           214.0   \n",
       "2    -118.21     33.95                32.0       1116.0           328.0   \n",
       "3    -119.32     36.32                29.0       2409.0           436.0   \n",
       "4    -117.11     33.14                10.0       3208.0           636.0   \n",
       "\n",
       "   population  households  median_income  median_house_value  \n",
       "0      1057.0       295.0         3.7143             81600.0  \n",
       "1       837.0       240.0         6.1168            213900.0  \n",
       "2      1265.0       302.0         2.2950            155200.0  \n",
       "3      1142.0       440.0         3.6895             87700.0  \n",
       "4      1395.0       582.0         3.4455            190500.0  "
      ]
     },
     "execution_count": 57,
     "metadata": {},
     "output_type": "execute_result"
    }
   ],
   "source": [
    "df_val.head()"
   ]
  },
  {
   "cell_type": "code",
   "execution_count": 58,
   "id": "495039cc",
   "metadata": {},
   "outputs": [],
   "source": [
    "# Split out the training labels and apply the log transformation.\n",
    "y_train = np.log1p(df_train.median_house_value.values)\n",
    "del df_train['median_house_value']\n",
    "\n",
    "y_val = np.log1p(df_val.median_house_value.values)\n",
    "del df_val['median_house_value']\n",
    "\n",
    "y_test = np.log1p(df_test.median_house_value.values)\n",
    "del df_test['median_house_value']"
   ]
  },
  {
   "cell_type": "code",
   "execution_count": 59,
   "id": "c6bd5750",
   "metadata": {
    "scrolled": true
   },
   "outputs": [
    {
     "data": {
      "text/plain": [
       "<Axes: ylabel='Count'>"
      ]
     },
     "execution_count": 59,
     "metadata": {},
     "output_type": "execute_result"
    },
    {
     "data": {
      "image/png": "[encoded data removed]",
      "text/plain": [
       "<Figure size 640x480 with 1 Axes>"
      ]
     },
     "metadata": {},
     "output_type": "display_data"
    }
   ],
   "source": [
    "sns.histplot(y_train, bins=70)"
   ]
  },
  {
   "cell_type": "markdown",
   "id": "0aaf2ab6",
   "metadata": {},
   "source": [
    "### Question 3\n",
    "\n",
    "* We need to deal with missing values for the column from Q1.\n",
    "* We have two options: fill it with 0 or with the mean of this variable.\n",
    "* Try both options. For each, train a linear regression model without regularization using the code from the lessons.\n",
    "* For computing the mean, use the training only!\n",
    "* Use the validation dataset to evaluate the models and compare the RMSE of each option.\n",
    "* Round the RMSE scores to 2 decimal digits using `round(score, 2)`\n",
    "* Which option gives better RMSE?\n",
    "\n",
    "Options:\n",
    "\n",
    "- With 0\n",
    "- With mean\n",
    "- Both are equally good <--\n"
   ]
  },
  {
   "cell_type": "code",
   "execution_count": 60,
   "id": "da705e70",
   "metadata": {},
   "outputs": [],
   "source": [
    "# Define the regression training function\n",
    "\n",
    "def train_linear_regression(X, y):\n",
    "    #Set up a column for the w0 term\n",
    "    ones = np.ones(X.shape[0])\n",
    "    X = np.column_stack([ones, X])\n",
    "    \n",
    "    #Find the weights by matrix inversion\n",
    "    XTX = X.T.dot(X)\n",
    "    XTX_inverse = np.linalg.inv(XTX)\n",
    "    w_full = XTX_inverse.dot(X.T).dot(y)\n",
    "    \n",
    "    return w_full[0], w_full[1:]"
   ]
  },
  {
   "cell_type": "code",
   "execution_count": 65,
   "id": "eb6c0a25",
   "metadata": {},
   "outputs": [],
   "source": [
    "# Define RMSE function\n",
    "\n",
    "def rmse(y, y_pred):\n",
    "    se = (y - y_pred)**2\n",
    "    mse = se.mean()\n",
    "    return np.sqrt(mse)"
   ]
  },
  {
   "cell_type": "markdown",
   "id": "ef91d3cd",
   "metadata": {},
   "source": [
    "#### First, let's look at the RSME for the training and validation sets when we fill missing values in `'total_bedrooms'` with 0."
   ]
  },
  {
   "cell_type": "code",
   "execution_count": 61,
   "id": "befc746a",
   "metadata": {},
   "outputs": [],
   "source": [
    "X_train = df_train.fillna(0).values\n",
    "\n",
    "w0, w = train_linear_regression(X_train, y_train)\n",
    "\n",
    "y_pred = w0 + X_train.dot(w)"
   ]
  },
  {
   "cell_type": "code",
   "execution_count": 64,
   "id": "48a200cd",
   "metadata": {},
   "outputs": [
    {
     "data": {
      "text/plain": [
       "<Axes: ylabel='Count'>"
      ]
     },
     "execution_count": 64,
     "metadata": {},
     "output_type": "execute_result"
    },
    {
     "data": {
      "image/png": "[encoded data removed]",
      "text/plain": [
       "<Figure size 640x480 with 1 Axes>"
      ]
     },
     "metadata": {},
     "output_type": "display_data"
    }
   ],
   "source": [
    "sns.histplot(y_pred, color='red', alpha=0.5, bins=70)\n",
    "sns.histplot(y_train, color='blue', alpha=0.5, bins=70)"
   ]
  },
  {
   "cell_type": "code",
   "execution_count": 75,
   "id": "f190bcb1",
   "metadata": {},
   "outputs": [
    {
     "data": {
      "text/plain": [
       "0.34"
      ]
     },
     "execution_count": 75,
     "metadata": {},
     "output_type": "execute_result"
    }
   ],
   "source": [
    "rmse(y_train, y_pred).round(2)"
   ]
  },
  {
   "cell_type": "code",
   "execution_count": 76,
   "id": "3ba6fe54",
   "metadata": {},
   "outputs": [
    {
     "data": {
      "text/plain": [
       "0.34"
      ]
     },
     "execution_count": 76,
     "metadata": {},
     "output_type": "execute_result"
    }
   ],
   "source": [
    "X_val = df_val.fillna(0).values\n",
    "y_val_pred = w0 + X_val.dot(w)\n",
    "rmse(y_val, y_val_pred).round(2)"
   ]
  },
  {
   "cell_type": "code",
   "execution_count": 77,
   "id": "0c2fdfb6",
   "metadata": {},
   "outputs": [
    {
     "data": {
      "text/plain": [
       "<Axes: ylabel='Count'>"
      ]
     },
     "execution_count": 77,
     "metadata": {},
     "output_type": "execute_result"
    },
    {
     "data": {
      "image/png": "[encoded data removed]",
      "text/plain": [
       "<Figure size 640x480 with 1 Axes>"
      ]
     },
     "metadata": {},
     "output_type": "display_data"
    }
   ],
   "source": [
    "sns.histplot(y_val_pred, color='red', alpha=0.5, bins=70)\n",
    "sns.histplot(y_val, color='blue', alpha=0.5, bins=70)"
   ]
  },
  {
   "cell_type": "code",
   "execution_count": 69,
   "id": "70788252",
   "metadata": {},
   "outputs": [],
   "source": [
    "# Fill missing 'total_bedrooms' with mean.  \n",
    "X_train = df_train.fillna(df_train['total_bedrooms'].mean()).values\n",
    "\n",
    "w0, w = train_linear_regression(X_train, y_train)\n",
    "\n",
    "y_pred = w0 + X_train.dot(w)"
   ]
  },
  {
   "cell_type": "code",
   "execution_count": 70,
   "id": "f7210718",
   "metadata": {},
   "outputs": [
    {
     "data": {
      "text/plain": [
       "<Axes: ylabel='Count'>"
      ]
     },
     "execution_count": 70,
     "metadata": {},
     "output_type": "execute_result"
    },
    {
     "data": {
      "image/png": "[encoded data removed]",
      "text/plain": [
       "<Figure size 640x480 with 1 Axes>"
      ]
     },
     "metadata": {},
     "output_type": "display_data"
    }
   ],
   "source": [
    "sns.histplot(y_pred, color='red', alpha=0.5, bins=70)\n",
    "sns.histplot(y_train, color='blue', alpha=0.5, bins=70)"
   ]
  },
  {
   "cell_type": "code",
   "execution_count": 78,
   "id": "83ee7046",
   "metadata": {},
   "outputs": [
    {
     "data": {
      "text/plain": [
       "0.34"
      ]
     },
     "execution_count": 78,
     "metadata": {},
     "output_type": "execute_result"
    }
   ],
   "source": [
    "rmse(y_train, y_pred).round(2)"
   ]
  },
  {
   "cell_type": "code",
   "execution_count": 79,
   "id": "069f85c1",
   "metadata": {},
   "outputs": [
    {
     "data": {
      "text/plain": [
       "0.34"
      ]
     },
     "execution_count": 79,
     "metadata": {},
     "output_type": "execute_result"
    }
   ],
   "source": [
    "X_val = df_val.fillna(df_val['total_bedrooms'].mean()).values\n",
    "y_val_pred = w0 + X_val.dot(w)\n",
    "rmse(y_val, y_val_pred).round(2)"
   ]
  },
  {
   "cell_type": "code",
   "execution_count": 80,
   "id": "52a76f97",
   "metadata": {},
   "outputs": [
    {
     "data": {
      "text/plain": [
       "<Axes: ylabel='Count'>"
      ]
     },
     "execution_count": 80,
     "metadata": {},
     "output_type": "execute_result"
    },
    {
     "data": {
      "image/png": "[encoded data removed]",
      "text/plain": [
       "<Figure size 640x480 with 1 Axes>"
      ]
     },
     "metadata": {},
     "output_type": "display_data"
    }
   ],
   "source": [
    "sns.histplot(y_val_pred, color='red', alpha=0.5, bins=70)\n",
    "sns.histplot(y_val, color='blue', alpha=0.5, bins=70)"
   ]
  },
  {
   "cell_type": "markdown",
   "id": "2b465ba7",
   "metadata": {},
   "source": [
    "#### At this level filling missing values with 0 and filling with the mean give similar results."
   ]
  },
  {
   "cell_type": "markdown",
   "id": "358b9edf",
   "metadata": {},
   "source": [
    "### Question 4\n",
    "\n",
    "* Now let's train a regularized linear regression.\n",
    "* For this question, fill the NAs with 0. \n",
    "* Try different values of `r` from this list: `[0, 0.000001, 0.0001, 0.001, 0.01, 0.1, 1, 5, 10]`.\n",
    "* Use RMSE to evaluate the model on the validation dataset.\n",
    "* Round the RMSE scores to 2 decimal digits.\n",
    "* Which `r` gives the best RMSE?\n",
    "\n",
    "If there are multiple options, select the smallest `r`.\n",
    "\n",
    "Options:\n",
    "\n",
    "- 0\n",
    "- 0.000001\n",
    "- 0.001\n",
    "- 0.0001"
   ]
  },
  {
   "cell_type": "code",
   "execution_count": 81,
   "id": "c707a2f9",
   "metadata": {},
   "outputs": [],
   "source": [
    "def train_linear_regression_reg(X, y, r=0.001):\n",
    "    \n",
    "    ones = np.ones(X.shape[0])\n",
    "    X = np.column_stack([ones, X])\n",
    "    \n",
    "    XTX = X.T.dot(X)\n",
    "    XTX = XTX + r*np.eye(XTX.shape[0]) #add the regularization term\n",
    "    \n",
    "    XTX_inverse = np.linalg.inv(XTX)\n",
    "    w_full = XTX_inverse.dot(X.T).dot(y)\n",
    "    \n",
    "    return w_full[0], w_full[1:]"
   ]
  },
  {
   "cell_type": "code",
   "execution_count": 84,
   "id": "0d8a1e74",
   "metadata": {},
   "outputs": [
    {
     "name": "stdout",
     "output_type": "stream",
     "text": [
      "0 0.34084790341761523\n",
      "1e-06 0.3408479061797474\n",
      "0.0001 0.3408481800591071\n",
      "0.001 0.3408506921902112\n",
      "0.01 0.3408779300520932\n",
      "0.1 0.34128620419729777\n",
      "1 0.3448958327651183\n",
      "5 0.3477398070477789\n",
      "10 0.3483149833518733\n"
     ]
    }
   ],
   "source": [
    "for r in [0, 0.000001, 0.0001, 0.001, 0.01, 0.1, 1, 5, 10]:\n",
    "    X_train = df_train.fillna(0).values\n",
    "    w0, w = train_linear_regression_reg(X_train, y_train, r=r)\n",
    "    \n",
    "    X_val = df_val.fillna(0).values\n",
    "    y_val_pred = w0 + X_val.dot(w)\n",
    "    score = rmse(y_val, y_val_pred)\n",
    "    \n",
    "    print(r, score)"
   ]
  },
  {
   "cell_type": "markdown",
   "id": "0a1cd0f4",
   "metadata": {},
   "source": [
    "#### All are very similar. The lowest r=0."
   ]
  },
  {
   "cell_type": "markdown",
   "id": "28d4d8d0",
   "metadata": {},
   "source": [
    "### Question 5 \n",
    "\n",
    "* We used seed 42 for splitting the data. Let's find out how selecting the seed influences our score.\n",
    "* Try different seed values: `[0, 1, 2, 3, 4, 5, 6, 7, 8, 9]`.\n",
    "* For each seed, do the train/validation/test split with 60%/20%/20% distribution.\n",
    "* Fill the missing values with 0 and train a model without regularization.\n",
    "* For each seed, evaluate the model on the validation dataset and collect the RMSE scores. \n",
    "* What's the standard deviation of all the scores? To compute the standard deviation, use `np.std`.\n",
    "* Round the result to 3 decimal digits (`round(std, 3)`)\n",
    "\n",
    "What's the value of std?\n",
    "\n",
    "- 0.5\n",
    "- 0.05\n",
    "- 0.005\n",
    "- 0.0005\n",
    "\n",
    "> Note: Standard deviation shows how different the values are.\n",
    "> If it's low, then all values are approximately the same.\n",
    "> If it's high, the values are different. \n",
    "> If standard deviation of scores is low, then our model is *stable*.\n"
   ]
  },
  {
   "cell_type": "markdown",
   "id": "e543976a",
   "metadata": {},
   "source": [
    "#### It's time to wrap the data preparation steps into a function.  We'll start with the filtered dataframe, with 'ocean_proximity' removed."
   ]
  },
  {
   "cell_type": "code",
   "execution_count": 91,
   "id": "03e450e5",
   "metadata": {},
   "outputs": [],
   "source": [
    "del df_filt['ocean_proximity']"
   ]
  },
  {
   "cell_type": "code",
   "execution_count": 92,
   "id": "8360b7cb",
   "metadata": {
    "scrolled": true
   },
   "outputs": [
    {
     "data": {
      "text/html": [
       "<div>\n",
       "<style scoped>\n",
       "    .dataframe tbody tr th:only-of-type {\n",
       "        vertical-align: middle;\n",
       "    }\n",
       "\n",
       "    .dataframe tbody tr th {\n",
       "        vertical-align: top;\n",
       "    }\n",
       "\n",
       "    .dataframe thead th {\n",
       "        text-align: right;\n",
       "    }\n",
       "</style>\n",
       "<table border=\"1\" class=\"dataframe\">\n",
       "  <thead>\n",
       "    <tr style=\"text-align: right;\">\n",
       "      <th></th>\n",
       "      <th>longitude</th>\n",
       "      <th>latitude</th>\n",
       "      <th>housing_median_age</th>\n",
       "      <th>total_rooms</th>\n",
       "      <th>total_bedrooms</th>\n",
       "      <th>population</th>\n",
       "      <th>households</th>\n",
       "      <th>median_income</th>\n",
       "      <th>median_house_value</th>\n",
       "    </tr>\n",
       "  </thead>\n",
       "  <tbody>\n",
       "    <tr>\n",
       "      <th>701</th>\n",
       "      <td>-121.97</td>\n",
       "      <td>37.64</td>\n",
       "      <td>32.0</td>\n",
       "      <td>1283.0</td>\n",
       "      <td>194.0</td>\n",
       "      <td>485.0</td>\n",
       "      <td>171.0</td>\n",
       "      <td>6.0574</td>\n",
       "      <td>431000.0</td>\n",
       "    </tr>\n",
       "    <tr>\n",
       "      <th>830</th>\n",
       "      <td>-121.99</td>\n",
       "      <td>37.61</td>\n",
       "      <td>9.0</td>\n",
       "      <td>3666.0</td>\n",
       "      <td>711.0</td>\n",
       "      <td>2341.0</td>\n",
       "      <td>703.0</td>\n",
       "      <td>4.6458</td>\n",
       "      <td>217000.0</td>\n",
       "    </tr>\n",
       "    <tr>\n",
       "      <th>859</th>\n",
       "      <td>-121.97</td>\n",
       "      <td>37.57</td>\n",
       "      <td>21.0</td>\n",
       "      <td>4342.0</td>\n",
       "      <td>783.0</td>\n",
       "      <td>2172.0</td>\n",
       "      <td>789.0</td>\n",
       "      <td>4.6146</td>\n",
       "      <td>247600.0</td>\n",
       "    </tr>\n",
       "    <tr>\n",
       "      <th>860</th>\n",
       "      <td>-121.96</td>\n",
       "      <td>37.58</td>\n",
       "      <td>15.0</td>\n",
       "      <td>3575.0</td>\n",
       "      <td>597.0</td>\n",
       "      <td>1777.0</td>\n",
       "      <td>559.0</td>\n",
       "      <td>5.7192</td>\n",
       "      <td>283500.0</td>\n",
       "    </tr>\n",
       "    <tr>\n",
       "      <th>861</th>\n",
       "      <td>-121.98</td>\n",
       "      <td>37.58</td>\n",
       "      <td>20.0</td>\n",
       "      <td>4126.0</td>\n",
       "      <td>1031.0</td>\n",
       "      <td>2079.0</td>\n",
       "      <td>975.0</td>\n",
       "      <td>3.6832</td>\n",
       "      <td>216900.0</td>\n",
       "    </tr>\n",
       "  </tbody>\n",
       "</table>\n",
       "</div>"
      ],
      "text/plain": [
       "     longitude  latitude  housing_median_age  total_rooms  total_bedrooms  \\\n",
       "701    -121.97     37.64                32.0       1283.0           194.0   \n",
       "830    -121.99     37.61                 9.0       3666.0           711.0   \n",
       "859    -121.97     37.57                21.0       4342.0           783.0   \n",
       "860    -121.96     37.58                15.0       3575.0           597.0   \n",
       "861    -121.98     37.58                20.0       4126.0          1031.0   \n",
       "\n",
       "     population  households  median_income  median_house_value  \n",
       "701       485.0       171.0         6.0574            431000.0  \n",
       "830      2341.0       703.0         4.6458            217000.0  \n",
       "859      2172.0       789.0         4.6146            247600.0  \n",
       "860      1777.0       559.0         5.7192            283500.0  \n",
       "861      2079.0       975.0         3.6832            216900.0  "
      ]
     },
     "execution_count": 92,
     "metadata": {},
     "output_type": "execute_result"
    }
   ],
   "source": [
    "df_filt.head()"
   ]
  },
  {
   "cell_type": "code",
   "execution_count": 95,
   "id": "8fdcf72c",
   "metadata": {},
   "outputs": [],
   "source": [
    "def prepare_data(df, seed=42):\n",
    "    #Set the seed for repeatability\n",
    "    np.random.seed(seed)\n",
    "\n",
    "    #Set the lengths of the train, validation, and test sets to 60%, 20%, and 20%\n",
    "    n = len(df_filt)\n",
    "\n",
    "    n_val = n_test = int(0.2 * n)\n",
    "    n_train = n - (n_val + n_test)\n",
    "    \n",
    "    # Shuffle the index to randomize the sets.\n",
    "    idx = np.arange(n)\n",
    "    np.random.shuffle(idx)\n",
    "    df_shuffled = df_filt.iloc[idx]\n",
    "    \n",
    "    # Split out the train, validation, and test sets.  Use .copy() to create new dataframes and reset index\n",
    "    df_train = df_shuffled.iloc[:n_train].copy().reset_index(drop=True)\n",
    "    df_val = df_shuffled.iloc[n_train:n_train+n_val].copy().reset_index(drop=True)\n",
    "    df_test = df_shuffled.iloc[n_train+n_val:].copy().reset_index(drop=True)\n",
    "    \n",
    "    # Split out the training labels and apply the log transformation.\n",
    "    y_train = np.log1p(df_train.median_house_value.values)\n",
    "    del df_train['median_house_value']\n",
    "\n",
    "    y_val = np.log1p(df_val.median_house_value.values)\n",
    "    del df_val['median_house_value']\n",
    "\n",
    "    y_test = np.log1p(df_test.median_house_value.values)\n",
    "    del df_test['median_house_value']\n",
    "    \n",
    "    return df_train, df_val, df_test, y_train, y_val, y_test"
   ]
  },
  {
   "cell_type": "code",
   "execution_count": 97,
   "id": "0b72db63",
   "metadata": {},
   "outputs": [
    {
     "name": "stdout",
     "output_type": "stream",
     "text": [
      "0.33773871600776895\n",
      "0.33779993536602526\n",
      "0.3384287006776875\n",
      "0.3320049468308206\n",
      "0.3394451862556283\n",
      "0.34338197052565184\n",
      "0.338533021177248\n",
      "0.3468747697292005\n",
      "0.3512736865966878\n",
      "0.33415582665178656\n"
     ]
    }
   ],
   "source": [
    "rmses = []\n",
    "\n",
    "for seed in [0, 1, 2, 3, 4, 5, 6, 7, 8, 9]:\n",
    "    df_train, df_val, df_test, y_train, y_val, y_test = prepare_data(df_filt, seed)\n",
    "    \n",
    "    X_train = df_train.fillna(0).values\n",
    "    w0, w = train_linear_regression(X_train, y_train)\n",
    "    \n",
    "    X_val = df_val.fillna(0).values\n",
    "    y_val_pred = w0 + X_val.dot(w)\n",
    "    score = rmse(y_val, y_val_pred)\n",
    "    print(score)\n",
    "    \n",
    "    rmses.append(score) "
   ]
  },
  {
   "cell_type": "code",
   "execution_count": 99,
   "id": "64cf99cd",
   "metadata": {},
   "outputs": [
    {
     "data": {
      "text/plain": [
       "0.005465718180716134"
      ]
     },
     "execution_count": 99,
     "metadata": {},
     "output_type": "execute_result"
    }
   ],
   "source": [
    "np.std(rmses)"
   ]
  },
  {
   "cell_type": "markdown",
   "id": "fe7625d5",
   "metadata": {},
   "source": [
    "#### The value of the standard deviation of the RMSEs is 0.005.  Our model is pretty stable."
   ]
  },
  {
   "cell_type": "markdown",
   "id": "66e993ea",
   "metadata": {},
   "source": [
    "### Question 6\n",
    "\n",
    "* Split the dataset like previously, use seed 9.\n",
    "* Combine train and validation datasets.\n",
    "* Fill the missing values with 0 and train a model with `r=0.001`. \n",
    "* What's the RMSE on the test dataset?\n",
    "\n",
    "Options:\n",
    "\n",
    "- 0.13\n",
    "- 0.23\n",
    "- 0.33\n",
    "- 0.43"
   ]
  },
  {
   "cell_type": "code",
   "execution_count": 106,
   "id": "219f095b",
   "metadata": {},
   "outputs": [
    {
     "name": "stdout",
     "output_type": "stream",
     "text": [
      "RSME = 0.33\n"
     ]
    }
   ],
   "source": [
    "df_train, df_val, df_test, y_train, y_val, y_test = prepare_data(df_filt, seed=9)\n",
    "    \n",
    "X_train_val = np.concatenate((df_train.fillna(0).values, df_val.fillna(0).values), axis=0)\n",
    "y_train_val = np.concatenate((y_train, y_val), axis=0)\n",
    "w0, w = train_linear_regression_reg(X_train_val, y_train_val, r=0.001)\n",
    "    \n",
    "X_test = df_test.fillna(0).values\n",
    "y_test_pred = w0 + X_test.dot(w)\n",
    "score = rmse(y_test, y_test_pred).round(2)\n",
    "print(f'RSME = {score}')"
   ]
  },
  {
   "cell_type": "code",
   "execution_count": null,
   "id": "d1beb43f",
   "metadata": {},
   "outputs": [],
   "source": []
  }
 ],
 "metadata": {
  "kernelspec": {
   "display_name": "Python 3 (ipykernel)",
   "language": "python",
   "name": "python3"
  },
  "language_info": {
   "codemirror_mode": {
    "name": "ipython",
    "version": 3
   },
   "file_extension": ".py",
   "mimetype": "text/x-python",
   "name": "python",
   "nbconvert_exporter": "python",
   "pygments_lexer": "ipython3",
   "version": "3.11.5"
  }
 },
 "nbformat": 4,
 "nbformat_minor": 5
}
